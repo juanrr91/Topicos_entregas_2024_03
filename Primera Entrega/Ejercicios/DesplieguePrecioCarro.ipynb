{
  "cells": [
    {
      "cell_type": "markdown",
      "metadata": {
        "id": "view-in-github"
      },
      "source": [
        "<a href=\"https://colab.research.google.com/github/sergiomora03/AdvancedTopicsAnalytics/blob/main/exercises/E1-UsedVehiclePricePredictionDeployment.ipynb\" target=\"_parent\"><img src=\"https://colab.research.google.com/assets/colab-badge.svg\" alt=\"Open In Colab\"/></a>"
      ]
    },
    {
      "cell_type": "markdown",
      "metadata": {
        "id": "sxFxQIOfeK4F"
      },
      "source": [
        "\n",
        "# E1 - Model Deployment in Used Vehicle Price Prediction"
      ]
    },
    {
      "cell_type": "markdown",
      "metadata": {
        "id": "sJ9F7SjKeK4G"
      },
      "source": [
        "## Introduction\n",
        "\n",
        "- 1.2 Million listings scraped from TrueCar.com - Price, Mileage, Make, Model dataset from Kaggle: [data](https://www.kaggle.com/jpayne/852k-used-car-listings)\n",
        "- Each observation represents the price of an used car"
      ]
    },
    {
      "cell_type": "code",
      "execution_count": null,
      "metadata": {
        "id": "xbFTQNlbeK4H"
      },
      "outputs": [],
      "source": [
        "%matplotlib inline\n",
        "import pandas as pd\n",
        "import ssl\n",
        "import numpy as np\n",
        "from sklearn.linear_model import LinearRegression\n",
        "from sklearn.metrics import mean_squared_error, mean_absolute_error\n",
        "from sklearn.preprocessing import OrdinalEncoder\n",
        "from sklearn.model_selection import train_test_split\n",
        "import joblib\n"
      ]
    },
    {
      "cell_type": "markdown",
      "metadata": {
        "id": "PHjDa5u-3B67"
      },
      "source": [
        "- Se genera la carga de los datos"
      ]
    },
    {
      "cell_type": "code",
      "execution_count": null,
      "metadata": {
        "id": "G8n9pb2JeK4I"
      },
      "outputs": [],
      "source": [
        "ssl._create_default_https_context = ssl._create_unverified_context\n",
        "data = pd.read_csv('https://github.com/sergiomora03/AdvancedTopicsAnalytics/raw/main/datasets/dataTrain_carListings.zip')"
      ]
    },
    {
      "cell_type": "markdown",
      "metadata": {
        "id": "hvOrTD6k3B67"
      },
      "source": [
        "## Revision Datos"
      ]
    },
    {
      "cell_type": "markdown",
      "metadata": {
        "id": "5afI9KAj3B68"
      },
      "source": [
        "- En las siguientes lineas se realiza la revisión de los datos, donde se comprueba si hay datos nulos, si hay datos duplicados y se realiza el ajuste, eliminando los datos que se encuentran duplicados\n",
        "- Se realiza la copia de la base en un data frame, para poder trabajar con este."
      ]
    },
    {
      "cell_type": "code",
      "execution_count": null,
      "metadata": {
        "id": "Lk8MMMbC3B68"
      },
      "outputs": [],
      "source": [
        "df = data.copy()\n"
      ]
    },
    {
      "cell_type": "code",
      "execution_count": null,
      "metadata": {
        "colab": {
          "base_uri": "https://localhost:8080/",
          "height": 204
        },
        "id": "7DKvXgDmeK4J",
        "outputId": "3621f360-87c9-450d-d11f-72f098cf9f72"
      },
      "outputs": [
        {
          "data": {
            "text/html": [
              "<div>\n",
              "<style scoped>\n",
              "    .dataframe tbody tr th:only-of-type {\n",
              "        vertical-align: middle;\n",
              "    }\n",
              "\n",
              "    .dataframe tbody tr th {\n",
              "        vertical-align: top;\n",
              "    }\n",
              "\n",
              "    .dataframe thead th {\n",
              "        text-align: right;\n",
              "    }\n",
              "</style>\n",
              "<table border=\"1\" class=\"dataframe\">\n",
              "  <thead>\n",
              "    <tr style=\"text-align: right;\">\n",
              "      <th></th>\n",
              "      <th>Price</th>\n",
              "      <th>Year</th>\n",
              "      <th>Mileage</th>\n",
              "      <th>State</th>\n",
              "      <th>Make</th>\n",
              "      <th>Model</th>\n",
              "    </tr>\n",
              "  </thead>\n",
              "  <tbody>\n",
              "    <tr>\n",
              "      <th>0</th>\n",
              "      <td>21490</td>\n",
              "      <td>2014</td>\n",
              "      <td>31909</td>\n",
              "      <td>20</td>\n",
              "      <td>27</td>\n",
              "      <td>305</td>\n",
              "    </tr>\n",
              "    <tr>\n",
              "      <th>1</th>\n",
              "      <td>21250</td>\n",
              "      <td>2016</td>\n",
              "      <td>25741</td>\n",
              "      <td>17</td>\n",
              "      <td>6</td>\n",
              "      <td>83</td>\n",
              "    </tr>\n",
              "    <tr>\n",
              "      <th>2</th>\n",
              "      <td>20925</td>\n",
              "      <td>2016</td>\n",
              "      <td>24633</td>\n",
              "      <td>40</td>\n",
              "      <td>14</td>\n",
              "      <td>400</td>\n",
              "    </tr>\n",
              "    <tr>\n",
              "      <th>3</th>\n",
              "      <td>14500</td>\n",
              "      <td>2012</td>\n",
              "      <td>84026</td>\n",
              "      <td>36</td>\n",
              "      <td>17</td>\n",
              "      <td>248</td>\n",
              "    </tr>\n",
              "    <tr>\n",
              "      <th>4</th>\n",
              "      <td>32488</td>\n",
              "      <td>2013</td>\n",
              "      <td>22816</td>\n",
              "      <td>42</td>\n",
              "      <td>17</td>\n",
              "      <td>489</td>\n",
              "    </tr>\n",
              "  </tbody>\n",
              "</table>\n",
              "</div>"
            ],
            "text/plain": [
              "   Price  Year  Mileage  State  Make  Model\n",
              "0  21490  2014    31909     20    27    305\n",
              "1  21250  2016    25741     17     6     83\n",
              "2  20925  2016    24633     40    14    400\n",
              "3  14500  2012    84026     36    17    248\n",
              "4  32488  2013    22816     42    17    489"
            ]
          },
          "execution_count": 62,
          "metadata": {},
          "output_type": "execute_result"
        }
      ],
      "source": [
        "df.head()"
      ]
    },
    {
      "cell_type": "code",
      "execution_count": null,
      "metadata": {
        "colab": {
          "base_uri": "https://localhost:8080/"
        },
        "id": "_aoPSO3KeK4J",
        "outputId": "fb63258d-0ea3-4c43-9e0b-e0846808df29"
      },
      "outputs": [
        {
          "data": {
            "text/plain": [
              "(500000, 6)"
            ]
          },
          "execution_count": 6,
          "metadata": {},
          "output_type": "execute_result"
        }
      ],
      "source": [
        "df.shape"
      ]
    },
    {
      "cell_type": "code",
      "execution_count": null,
      "metadata": {
        "id": "GLvBRWTs3B69",
        "outputId": "fc69b6b2-8dcf-4d09-cc12-cbfb6d9d8a48"
      },
      "outputs": [
        {
          "data": {
            "text/plain": [
              "Price      0\n",
              "Year       0\n",
              "Mileage    0\n",
              "State      0\n",
              "Make       0\n",
              "Model      0\n",
              "dtype: int64"
            ]
          },
          "execution_count": 7,
          "metadata": {},
          "output_type": "execute_result"
        }
      ],
      "source": [
        "##Check features with nan value\n",
        "df.isnull().sum()"
      ]
    },
    {
      "cell_type": "code",
      "execution_count": null,
      "metadata": {
        "id": "v2895mDc3B6-",
        "outputId": "5bcf605d-6dbf-4b38-a732-e83f0a2bc862"
      },
      "outputs": [
        {
          "data": {
            "text/plain": [
              "np.int64(5)"
            ]
          },
          "execution_count": 8,
          "metadata": {},
          "output_type": "execute_result"
        }
      ],
      "source": [
        "df.Mileage.min()"
      ]
    },
    {
      "cell_type": "code",
      "execution_count": null,
      "metadata": {
        "id": "BNVmp70k3B6-",
        "outputId": "536fe25c-a1e5-4f57-b286-849d2d03d731"
      },
      "outputs": [
        {
          "data": {
            "text/plain": [
              "np.int64(2457832)"
            ]
          },
          "execution_count": 9,
          "metadata": {},
          "output_type": "execute_result"
        }
      ],
      "source": [
        "df.Mileage.max()"
      ]
    },
    {
      "cell_type": "markdown",
      "metadata": {
        "id": "M6dT-k7r3B6_"
      },
      "source": [
        "## Encoding"
      ]
    },
    {
      "cell_type": "markdown",
      "metadata": {
        "id": "VFRmvp5v3B6_"
      },
      "source": [
        "- Se codifican las categorias para que sea mucho más fácil trabajar con estas, ya que al dumificar los valores se generan muchas columnas que hacen mucho más amplio, esto se probó y los resultados pueden ser relativamente mejores cuando se codifica."
      ]
    },
    {
      "cell_type": "code",
      "execution_count": null,
      "metadata": {
        "id": "CZbJUgHu3B6_"
      },
      "outputs": [],
      "source": [
        "ordinal_encoder = OrdinalEncoder()\n",
        "df[['State', 'Make', 'Model']] = ordinal_encoder.fit_transform(df[['State', 'Make', 'Model']])\n",
        "\n",
        "# Guardar el codificador ordinal\n",
        "joblib.dump(ordinal_encoder, 'ordinal_encoder.pkl')\n",
        "\n",
        "\n",
        "X = df[['Year', 'Mileage', 'State', 'Make', 'Model']]\n",
        "y = df['Price']\n"
      ]
    },
    {
      "cell_type": "markdown",
      "metadata": {
        "id": "6VzIe-Da3B7A"
      },
      "source": [
        "- Se validaron los valores duplicados y se revisan cuales fueron, una vez codificados."
      ]
    },
    {
      "cell_type": "code",
      "execution_count": null,
      "metadata": {
        "id": "N-FnJOir3B7B",
        "outputId": "80ab7854-991a-4744-d9b7-c4ac2e603ef6"
      },
      "outputs": [
        {
          "name": "stdout",
          "output_type": "stream",
          "text": [
            "        Price  Year  Mileage  State  Make  Model\n",
            "37781   24865  2018       10     44    10    233\n",
            "40335   16488  2017       15      9    35    123\n",
            "45362   35780  2017       10     44    10    438\n",
            "53757   15988  2017       15      9    35    123\n",
            "58577   16995  2017       15      9    35    123\n",
            "...       ...   ...      ...    ...   ...    ...\n",
            "490356  35882  2017        5      4    32    326\n",
            "493629  49410  2018       10     44    10    191\n",
            "496681  47999  2017       99     38     2    498\n",
            "498068  31995  2016       11      9    24    434\n",
            "498252  26285  2017        5     14    13     67\n",
            "\n",
            "[220 rows x 6 columns]\n"
          ]
        }
      ],
      "source": [
        "df.duplicated().sum()\n",
        "duplicados = df.duplicated()\n",
        "duplicados_valores = df[duplicados]\n",
        "print(duplicados_valores)"
      ]
    },
    {
      "cell_type": "markdown",
      "metadata": {
        "id": "reWzQmSY3B7D"
      },
      "source": [
        "- Se elimnaron los valores duplicados y posteriormente se revisa cómo queda la base en cantidad de datos."
      ]
    },
    {
      "cell_type": "code",
      "execution_count": null,
      "metadata": {
        "id": "lzyKti8m3B7E"
      },
      "outputs": [],
      "source": [
        "df.drop_duplicates(inplace=True)"
      ]
    },
    {
      "cell_type": "code",
      "execution_count": null,
      "metadata": {
        "id": "i6pBgiVY3B7E",
        "outputId": "6b7dd2d5-104c-45bc-d99f-76ccd51753a5"
      },
      "outputs": [
        {
          "data": {
            "text/plain": [
              "(499780, 6)"
            ]
          },
          "execution_count": 14,
          "metadata": {},
          "output_type": "execute_result"
        }
      ],
      "source": [
        "df.shape"
      ]
    },
    {
      "cell_type": "code",
      "execution_count": null,
      "metadata": {
        "id": "LPK2OLPD3B7F",
        "outputId": "e27acfcd-5d34-4832-fc15-75109fe896e9"
      },
      "outputs": [
        {
          "name": "stdout",
          "output_type": "stream",
          "text": [
            "<class 'pandas.core.frame.DataFrame'>\n",
            "Index: 499780 entries, 0 to 499999\n",
            "Data columns (total 6 columns):\n",
            " #   Column   Non-Null Count   Dtype  \n",
            "---  ------   --------------   -----  \n",
            " 0   Price    499780 non-null  int64  \n",
            " 1   Year     499780 non-null  int64  \n",
            " 2   Mileage  499780 non-null  int64  \n",
            " 3   State    499780 non-null  float64\n",
            " 4   Make     499780 non-null  float64\n",
            " 5   Model    499780 non-null  float64\n",
            "dtypes: float64(3), int64(3)\n",
            "memory usage: 26.7 MB\n"
          ]
        }
      ],
      "source": [
        "df.info()"
      ]
    },
    {
      "cell_type": "code",
      "execution_count": null,
      "metadata": {
        "colab": {
          "base_uri": "https://localhost:8080/"
        },
        "id": "5DZ-QvJLeK4L",
        "outputId": "64940a18-c12e-43bf-f576-dcee13994da9"
      },
      "outputs": [
        {
          "data": {
            "text/plain": [
              "Index(['Price', 'Year', 'Mileage', 'State', 'Make', 'Model'], dtype='object')"
            ]
          },
          "execution_count": 17,
          "metadata": {},
          "output_type": "execute_result"
        }
      ],
      "source": [
        "df.columns"
      ]
    },
    {
      "cell_type": "code",
      "execution_count": null,
      "metadata": {
        "id": "A3SGKn1U3B7F",
        "outputId": "f62f270a-37a2-44f2-e9d0-34e91a9845ba"
      },
      "outputs": [
        {
          "data": {
            "text/plain": [
              "Price      53291\n",
              "Year        2016\n",
              "Mileage    22066\n",
              "State         43\n",
              "Make          12\n",
              "Model        416\n",
              "Name: 261451, dtype: int64"
            ]
          },
          "execution_count": 67,
          "metadata": {},
          "output_type": "execute_result"
        }
      ],
      "source": [
        "df.loc[261451]"
      ]
    },
    {
      "cell_type": "code",
      "execution_count": null,
      "metadata": {
        "id": "5sV2jyqj3B7G",
        "outputId": "fad63dd9-8c90-4fa0-c5a6-782d1b800781"
      },
      "outputs": [
        {
          "data": {
            "text/plain": [
              "Price\n",
              "14995    2868\n",
              "13995    2762\n",
              "9995     2695\n",
              "12995    2679\n",
              "15995    2541\n",
              "         ... \n",
              "31741       1\n",
              "58060       1\n",
              "7158        1\n",
              "26065       1\n",
              "63973       1\n",
              "Name: count, Length: 38222, dtype: int64"
            ]
          },
          "execution_count": 14,
          "metadata": {},
          "output_type": "execute_result"
        }
      ],
      "source": [
        "df['Price'].value_counts()\n"
      ]
    },
    {
      "cell_type": "markdown",
      "metadata": {
        "id": "FPv8cqye3B7G"
      },
      "source": [
        "## Entrenamiento"
      ]
    },
    {
      "cell_type": "markdown",
      "metadata": {
        "id": "36CZNPvq3B7G"
      },
      "source": [
        "- Se gera la división de la base en train y test en 80%, 20%"
      ]
    },
    {
      "cell_type": "code",
      "execution_count": null,
      "metadata": {
        "id": "0mtpMdwW3B7G"
      },
      "outputs": [],
      "source": [
        "X_train, X_test, y_train, y_test = train_test_split(X, y, test_size=0.2, random_state=42)\n",
        "\n",
        ""
      ]
    },
    {
      "cell_type": "markdown",
      "metadata": {
        "id": "9Sw-2_aS3B7G"
      },
      "source": [
        "- Nota: Esta linea podría ser ajustada posteriormente, pero dado que se hicieron diferentes pruebas de modelo y codificación, se dejó en el momento, por practicidad,"
      ]
    },
    {
      "cell_type": "code",
      "execution_count": null,
      "metadata": {
        "id": "rdJJUUHQ3B7G"
      },
      "outputs": [],
      "source": [
        "X_train_encoded = X_train.copy()\n",
        "\n",
        "X_test_encoded = X_test.copy()\n"
      ]
    },
    {
      "cell_type": "markdown",
      "metadata": {
        "id": "7iz8pi7CeK4M"
      },
      "source": [
        "# Exercise P0.1 (50%)\n",
        "\n",
        "Develop a machine learning model that predicts the price of the of car using as an input ['Year', 'Mileage', 'State', 'Make', 'Model']\n",
        "\n",
        "#### Evaluation:\n",
        "- 25% - Performance of the models using a manually implemented K-Fold (K=10) cross-validation\n",
        "- 25% - Notebook explaining the process for selecting the best model. You must specify how the calibration of each of the parameters is done and how these change the performance of the model. It is expected that a clear comparison will be made of all implemented models.. Present the most relevant conslusions about the whole process.\n"
      ]
    },
    {
      "cell_type": "markdown",
      "metadata": {
        "id": "CsRwFa5Q3B7J"
      },
      "source": [
        "## Implementación de modelos\n",
        "Para los modelos se realizaron 3 modelos diferentes, Regresion Lineal, Random Forest Y XGBoost"
      ]
    },
    {
      "cell_type": "markdown",
      "metadata": {
        "id": "HZIKRo-13B7J"
      },
      "source": [
        "## modelo Regresion Linear"
      ]
    },
    {
      "cell_type": "markdown",
      "metadata": {
        "id": "aAVnjH_03B7K"
      },
      "source": [
        "La regresion lineal se ejecuta con 10 Folds, haciendo la particion 10 veces de los datos, para poder realizar la prediccion de estos"
      ]
    },
    {
      "cell_type": "code",
      "execution_count": null,
      "metadata": {
        "id": "sTFfi4qq3B7L",
        "outputId": "cda2dc63-9a72-4170-df7c-e539fa73482e"
      },
      "outputs": [
        {
          "name": "stdout",
          "output_type": "stream",
          "text": [
            "Average Root Mean Squared Error (RMSE): 8926.45783878061\n",
            "Average Mean Absolute Error (MAE): 6844.976931049464\n"
          ]
        }
      ],
      "source": [
        "# Definir el número de folds\n",
        "k = 10\n",
        "\n",
        "# Crear una lista para almacenar los resultados de evaluación\n",
        "rmse_list = []\n",
        "mae_list = []\n",
        "\n",
        "# Obtener los índices de los datos\n",
        "indices = np.arange(len(X_train_encoded))\n",
        "\n",
        "# Mezclar los índices aleatoriamente\n",
        "np.random.shuffle(indices)\n",
        "\n",
        "# Dividir los datos en K folds\n",
        "fold_size = len(X_train_encoded) // k\n",
        "folds = [indices[i:i+fold_size] for i in range(0, len(X_train_encoded), fold_size)]\n",
        "\n",
        "\n",
        "model = LinearRegression()\n",
        "\n",
        "# Realizar el K-Fold Cross Validation\n",
        "for i in range(k):\n",
        "    # Obtener los índices de entrenamiento y prueba para el fold actual\n",
        "    test_indices = folds[i]\n",
        "    train_indices = np.concatenate(folds[:i] + folds[i+1:])\n",
        "\n",
        "    X_train_fold, X_test_fold = X_train_encoded.iloc[train_indices], X_train_encoded.iloc[test_indices]\n",
        "    y_train_fold, y_test_fold = y_train.iloc[train_indices], y_train.iloc[test_indices]\n",
        "\n",
        "    # Entrenar el modelo\n",
        "    model.fit(X_train_fold, y_train_fold)\n",
        "\n",
        "    # Predecir\n",
        "    y_pred_fold = model.predict(X_test_fold)\n",
        "\n",
        "    # Calcular métricas\n",
        "    rmse_fold = np.sqrt(mean_squared_error(y_test_fold, y_pred_fold))\n",
        "    mae_fold = mean_absolute_error(y_test_fold, y_pred_fold)\n",
        "\n",
        "    # Almacenar métricas\n",
        "    rmse_list.append(rmse_fold)\n",
        "    mae_list.append(mae_fold)\n",
        "\n",
        "# Calcular métricas promedio\n",
        "mean_rmse = np.mean(rmse_list)\n",
        "mean_mae = np.mean(mae_list)\n",
        "\n",
        "\n",
        "\n",
        "print(f'Average Root Mean Squared Error (RMSE): {mean_rmse}')\n",
        "print(f'Average Mean Absolute Error (MAE): {mean_mae}')"
      ]
    },
    {
      "cell_type": "markdown",
      "metadata": {
        "id": "esL6XACS3B7L"
      },
      "source": [
        "## Modelo RF"
      ]
    },
    {
      "cell_type": "markdown",
      "metadata": {
        "id": "aAyNCmJv3B7L"
      },
      "source": [
        "Se aplica la misma estructura que en la regresion lineal, pero esta vez para el modelo de Random Forest.  Se tiene en cuenta los parameteos de número de estimadores, profundidad, random state y jobs."
      ]
    },
    {
      "cell_type": "code",
      "execution_count": null,
      "metadata": {
        "id": "c1ExWH-x3B7L",
        "outputId": "b775cb56-db75-460a-e615-e91155f8b4fd"
      },
      "outputs": [
        {
          "name": "stdout",
          "output_type": "stream",
          "text": [
            "Average Root Mean Squared Error (RMSE): 4681.130284507001\n",
            "Average Mean Absolute Error (MAE): 3217.069183769096\n"
          ]
        }
      ],
      "source": [
        "from sklearn.ensemble import RandomForestRegressor\n",
        "from sklearn.metrics import mean_squared_error, mean_absolute_error\n",
        "from sklearn.model_selection import KFold\n",
        "import numpy as np\n",
        "\n",
        "# Inicializar el modelo\n",
        "model_rf = RandomForestRegressor(n_estimators=50, max_depth=10, random_state=42, n_jobs=-1)\n",
        "\n",
        "# Definir el número de folds\n",
        "k = 10\n",
        "\n",
        "# Crear una lista para almacenar los resultados de evaluación\n",
        "rmse_list = []\n",
        "mae_list = []\n",
        "\n",
        "# Obtener los índices de los datos\n",
        "indices = np.arange(len(X_train_encoded))\n",
        "\n",
        "# Mezclar los índices aleatoriamente\n",
        "np.random.shuffle(indices)\n",
        "\n",
        "# Dividir los datos en K folds\n",
        "fold_size = len(X_train_encoded) // k\n",
        "folds = [indices[i:i+fold_size] for i in range(0, len(X_train_encoded), fold_size)]\n",
        "\n",
        "# Listas para almacenar las métricas de cada pliegue\n",
        "rmse_list = []\n",
        "mae_list = []\n",
        "\n",
        "# Realizar K-Fold Cross-Validation\n",
        "for i in range(k):\n",
        "    # Obtener los índices de entrenamiento y prueba para el fold actual\n",
        "    test_index = folds[i]\n",
        "    train_index = np.concatenate(folds[:i] + folds[i+1:])\n",
        "    X_train_fold, X_test_fold = X_train_encoded.iloc[train_index], X_train_encoded.iloc[test_index]\n",
        "    y_train_fold, y_test_fold = y_train.iloc[train_index], y_train.iloc[test_index]\n",
        "\n",
        "    # Entrenar el modelo\n",
        "    model_rf.fit(X_train_fold, y_train_fold)\n",
        "\n",
        "    # Predecir\n",
        "    y_pred_fold = model_rf.predict(X_test_fold)\n",
        "\n",
        "    # Calcular métricas\n",
        "    rmse_fold = np.sqrt(mean_squared_error(y_test_fold, y_pred_fold))\n",
        "    mae_fold = mean_absolute_error(y_test_fold, y_pred_fold)\n",
        "\n",
        "    # Almacenar métricas\n",
        "    rmse_list.append(rmse_fold)\n",
        "    mae_list.append(mae_fold)\n",
        "\n",
        "# Calcular métricas promedio\n",
        "mean_rmse = np.mean(rmse_list)\n",
        "mean_mae = np.mean(mae_list)\n",
        "\n",
        "print(f'Average Root Mean Squared Error (RMSE): {mean_rmse}')\n",
        "print(f'Average Mean Absolute Error (MAE): {mean_mae}')"
      ]
    },
    {
      "cell_type": "markdown",
      "metadata": {
        "id": "_Z4_QcU33B7M"
      },
      "source": [
        "## Modelo XGboost"
      ]
    },
    {
      "cell_type": "markdown",
      "metadata": {
        "id": "OZGwSep_3B7M"
      },
      "source": [
        "- Se genera el mismo ejercicio que los modelos anteriores, en el caso del XGBoost, se tiene en cuenta los parameteos de número de estimadores, profundidad, random state y jobs."
      ]
    },
    {
      "cell_type": "code",
      "execution_count": null,
      "metadata": {
        "id": "3RdKGM1u3B7M"
      },
      "outputs": [],
      "source": [
        "# Inicializar el modelo XGBoost\n",
        "model_xgb = XGBRegressor(n_estimators=50, max_depth=10, random_state=42, n_jobs=-1)\n",
        "\n",
        "# Definir el número de folds\n",
        "k = 10\n",
        "\n",
        "# Crear una lista para almacenar los resultados de evaluación\n",
        "rmse_list = []\n",
        "mae_list = []\n",
        "\n",
        "# Obtener los índices de los datos\n",
        "indices = np.arange(len(X_train_encoded))\n",
        "\n",
        "# Mezclar los índices aleatoriamente\n",
        "np.random.shuffle(indices)\n",
        "\n",
        "# Dividir los datos en K folds\n",
        "fold_size = len(X_train_encoded) // k\n",
        "folds = [indices[i:i+fold_size] for i in range(0, len(X_train_encoded), fold_size)]\n",
        "\n",
        "# Listas para almacenar las métricas de cada pliegue\n",
        "rmse_list = []\n",
        "mae_list = []\n",
        "\n",
        "# Realizar K-Fold Cross-Validation\n",
        "for i in range(k):\n",
        "    # Obtener los índices de entrenamiento y prueba para el fold actual\n",
        "    test_index = folds[i]\n",
        "    train_index = np.concatenate(folds[:i] + folds[i+1:])\n",
        "\n",
        "    X_train_fold, X_test_fold = X_train_encoded.iloc[train_index], X_train_encoded.iloc[test_index]\n",
        "    y_train_fold, y_test_fold = y_train.iloc[train_index], y_train.iloc[test_index]\n",
        "\n",
        "    # Entrenar el modelo\n",
        "    model_xgb.fit(X_train_fold, y_train_fold)\n",
        "\n",
        "    # Predecir\n",
        "    y_pred_fold = model_xgb.predict(X_test_fold)\n",
        "\n",
        "    # Calcular métricas\n",
        "    rmse_fold = np.sqrt(mean_squared_error(y_test_fold, y_pred_fold))\n",
        "    mae_fold = mean_absolute_error(y_test_fold, y_pred_fold)\n",
        "\n",
        "    # Almacenar métricas\n",
        "    rmse_list.append(rmse_fold)\n",
        "    mae_list.append(mae_fold)\n",
        "\n",
        "# Calcular métricas promedio\n",
        "mean_rmse = np.mean(rmse_list)\n",
        "mean_mae = np.mean(mae_list)\n",
        "\n",
        "print(f'Average Root Mean Squared Error (RMSE): {mean_rmse}')\n",
        "print(f'Average Mean Absolute Error (MAE): {mean_mae}')"
      ]
    },
    {
      "cell_type": "markdown",
      "metadata": {
        "id": "8PExS-TU3B7N"
      },
      "source": [
        "El modelo que se escoge trabajar es el modelo del XGboost, dado que trae mejores resultados en comparación con los otros dos modelos, con un menor RMSE, que en este caso da cercano a los 4K. Que para efectos del modelo aunque es alto, puede ser un mejor valor que tener gastos superiores a 5K."
      ]
    },
    {
      "cell_type": "markdown",
      "metadata": {
        "id": "ILLglBhp3B7N"
      },
      "source": [
        "## almacenamiento modelos"
      ]
    },
    {
      "cell_type": "markdown",
      "metadata": {
        "id": "dvE2UgTB3B7N"
      },
      "source": [
        "- por medio de la librería de joblib se guardan los modelos en un archivo.pkl"
      ]
    },
    {
      "cell_type": "code",
      "execution_count": null,
      "metadata": {
        "id": "J0I6paVK3B7O",
        "outputId": "964dd016-3e7b-4faf-c9e5-bdee2b873f4f"
      },
      "outputs": [
        {
          "data": {
            "text/plain": [
              "['model.pkl']"
            ]
          },
          "execution_count": 38,
          "metadata": {},
          "output_type": "execute_result"
        }
      ],
      "source": [
        "joblib.dump(model, 'model.pkl')"
      ]
    },
    {
      "cell_type": "code",
      "execution_count": null,
      "metadata": {
        "id": "rMmOTm5B3B7O",
        "outputId": "39036ecc-ff9a-426a-f14e-a766cdc41d36"
      },
      "outputs": [
        {
          "data": {
            "text/plain": [
              "['model_rf.pkl']"
            ]
          },
          "execution_count": 39,
          "metadata": {},
          "output_type": "execute_result"
        }
      ],
      "source": [
        "joblib.dump(model_rf, 'model_rf.pkl')"
      ]
    },
    {
      "cell_type": "code",
      "execution_count": null,
      "metadata": {
        "id": "HUATp5kI3B7O"
      },
      "outputs": [],
      "source": [
        "joblib.dump(model_rf, 'model_xgb.pkl')"
      ]
    },
    {
      "cell_type": "code",
      "execution_count": null,
      "metadata": {
        "id": "aOlPtEKT3B7P"
      },
      "outputs": [],
      "source": [
        "predict = model.predict(X_test_encoded)"
      ]
    },
    {
      "cell_type": "code",
      "execution_count": null,
      "metadata": {
        "id": "8tbxLrqR3B7P",
        "outputId": "f615670c-6b5f-41bf-f47e-546f32aca7e6"
      },
      "outputs": [
        {
          "data": {
            "text/plain": [
              "array([27816.23136759, 25134.15756744, 26107.44928197, ...,\n",
              "       21841.16998523,  6859.95420534, 28044.29995154])"
            ]
          },
          "execution_count": 20,
          "metadata": {},
          "output_type": "execute_result"
        }
      ],
      "source": [
        "predict"
      ]
    },
    {
      "cell_type": "code",
      "execution_count": null,
      "metadata": {
        "id": "MPYaYoxt3B7P",
        "outputId": "60c0a527-9aeb-43b3-e8fe-077a65391d9e"
      },
      "outputs": [
        {
          "data": {
            "text/html": [
              "<div>\n",
              "<style scoped>\n",
              "    .dataframe tbody tr th:only-of-type {\n",
              "        vertical-align: middle;\n",
              "    }\n",
              "\n",
              "    .dataframe tbody tr th {\n",
              "        vertical-align: top;\n",
              "    }\n",
              "\n",
              "    .dataframe thead th {\n",
              "        text-align: right;\n",
              "    }\n",
              "</style>\n",
              "<table border=\"1\" class=\"dataframe\">\n",
              "  <thead>\n",
              "    <tr style=\"text-align: right;\">\n",
              "      <th></th>\n",
              "      <th>Year</th>\n",
              "      <th>Mileage</th>\n",
              "      <th>State</th>\n",
              "      <th>Make</th>\n",
              "      <th>Model</th>\n",
              "    </tr>\n",
              "  </thead>\n",
              "  <tbody>\n",
              "    <tr>\n",
              "      <th>269056</th>\n",
              "      <td>2014</td>\n",
              "      <td>13413</td>\n",
              "      <td>8</td>\n",
              "      <td>35</td>\n",
              "      <td>90</td>\n",
              "    </tr>\n",
              "  </tbody>\n",
              "</table>\n",
              "</div>"
            ],
            "text/plain": [
              "        Year  Mileage  State  Make  Model\n",
              "269056  2014    13413      8    35     90"
            ]
          },
          "execution_count": 21,
          "metadata": {},
          "output_type": "execute_result"
        }
      ],
      "source": [
        "X_train_encoded.head(1)"
      ]
    },
    {
      "cell_type": "code",
      "execution_count": null,
      "metadata": {
        "id": "0COluC3I3B7P"
      },
      "outputs": [],
      "source": [
        "input_data = pd.DataFrame([[2023, 30000, 25, 1, 104]], columns=['Year', 'Mileage', 'State', 'Make', 'Model'])"
      ]
    },
    {
      "cell_type": "code",
      "execution_count": null,
      "metadata": {
        "id": "fvLKcI_93B7Q",
        "outputId": "eb51d729-125f-4b35-df74-6aa8bfe4a3dd"
      },
      "outputs": [
        {
          "data": {
            "text/plain": [
              "array([31582.399151])"
            ]
          },
          "execution_count": 23,
          "metadata": {},
          "output_type": "execute_result"
        }
      ],
      "source": [
        "model.predict(input_data)"
      ]
    },
    {
      "cell_type": "code",
      "execution_count": null,
      "metadata": {
        "id": "gZW1a5JU3B7Q"
      },
      "outputs": [],
      "source": [
        "import pickle as pk"
      ]
    },
    {
      "cell_type": "code",
      "execution_count": null,
      "metadata": {
        "id": "vHbfEQDo3B7Q"
      },
      "outputs": [],
      "source": [
        "pk.dump(model,open('model.pkl','wb'))"
      ]
    },
    {
      "cell_type": "markdown",
      "metadata": {
        "id": "Ftau7hH-eK4N"
      },
      "source": [
        "# Exercise P0.2 (50%)\n",
        "\n",
        "Create an API of the model.\n",
        "\n",
        "Example:\n",
        "![](https://github.com/sergiomora03/AdvancedTopicsAnalytics/blob/main/notebooks/img/img015.PNG?raw=true)\n",
        "\n",
        "#### Evaluation:\n",
        "- 40% - API hosted on a cloud service\n",
        "- 10% - Show screenshots of the model doing the predictions on the local machine\n"
      ]
    },
    {
      "cell_type": "markdown",
      "metadata": {
        "id": "F404XRW73B7Q"
      },
      "source": [
        "### API"
      ]
    },
    {
      "cell_type": "code",
      "execution_count": null,
      "metadata": {
        "id": "3uL8XiJi3B7R"
      },
      "outputs": [],
      "source": [
        "from flask import Flask\n",
        "from flask_restx import Api, Resource, fields\n",
        "import joblib"
      ]
    },
    {
      "cell_type": "code",
      "execution_count": null,
      "metadata": {
        "id": "QnqR_YMr3B7R"
      },
      "outputs": [],
      "source": [
        "app = Flask(__name__)\n",
        "\n",
        "api = Api(\n",
        "    app,\n",
        "    version='1.0',\n",
        "    title='Car Price Prediction API',\n",
        "    description='Car Price Prediction API')\n",
        "\n",
        "ns = api.namespace('predict',\n",
        "     description='Price Prediction')\n",
        "\n",
        "parser = api.parser()\n",
        "\n",
        "parser.add_argument(\n",
        "    'URL',\n",
        "    type=str,\n",
        "    required=True,\n",
        "    help='URL to be analyzed',\n",
        "    location='args')\n",
        "\n",
        "resource_fields = api.model('Resource', {\n",
        "    'result': fields.String,\n",
        "})"
      ]
    },
    {
      "cell_type": "code",
      "execution_count": null,
      "metadata": {
        "id": "APm1lCND3B7S",
        "outputId": "edbf59b5-7171-4c2c-88f6-4f92d636ff0d"
      },
      "outputs": [
        {
          "name": "stdout",
          "output_type": "stream",
          "text": [
            " * Serving Flask app '__main__'\n",
            " * Debug mode: on\n"
          ]
        },
        {
          "name": "stderr",
          "output_type": "stream",
          "text": [
            "\u001b[31m\u001b[1mWARNING: This is a development server. Do not use it in a production deployment. Use a production WSGI server instead.\u001b[0m\n",
            " * Running on http://127.0.0.1:5000\n",
            "\u001b[33mPress CTRL+C to quit\u001b[0m\n",
            " * Restarting with watchdog (fsevents)\n",
            "Traceback (most recent call last):\n",
            "  File \"<frozen runpy>\", line 198, in _run_module_as_main\n",
            "  File \"<frozen runpy>\", line 88, in _run_code\n",
            "  File \"/Users/juanpablo.cuellar/Library/Python/3.11/lib/python/site-packages/ipykernel_launcher.py\", line 18, in <module>\n",
            "    app.launch_new_instance()\n",
            "  File \"/Users/juanpablo.cuellar/Library/Python/3.11/lib/python/site-packages/traitlets/config/application.py\", line 1074, in launch_instance\n",
            "    app.initialize(argv)\n",
            "  File \"/Users/juanpablo.cuellar/Library/Python/3.11/lib/python/site-packages/traitlets/config/application.py\", line 118, in inner\n",
            "    return method(app, *args, **kwargs)\n",
            "           ^^^^^^^^^^^^^^^^^^^^^^^^^^^^\n",
            "  File \"/Users/juanpablo.cuellar/Library/Python/3.11/lib/python/site-packages/ipykernel/kernelapp.py\", line 692, in initialize\n",
            "    self.init_sockets()\n",
            "  File \"/Users/juanpablo.cuellar/Library/Python/3.11/lib/python/site-packages/ipykernel/kernelapp.py\", line 331, in init_sockets\n",
            "    self.shell_port = self._bind_socket(self.shell_socket, self.shell_port)\n",
            "                      ^^^^^^^^^^^^^^^^^^^^^^^^^^^^^^^^^^^^^^^^^^^^^^^^^^^^^\n",
            "  File \"/Users/juanpablo.cuellar/Library/Python/3.11/lib/python/site-packages/ipykernel/kernelapp.py\", line 253, in _bind_socket\n",
            "    return self._try_bind_socket(s, port)\n",
            "           ^^^^^^^^^^^^^^^^^^^^^^^^^^^^^^\n",
            "  File \"/Users/juanpablo.cuellar/Library/Python/3.11/lib/python/site-packages/ipykernel/kernelapp.py\", line 229, in _try_bind_socket\n",
            "    s.bind(\"tcp://%s:%i\" % (self.ip, port))\n",
            "  File \"/Users/juanpablo.cuellar/Library/Python/3.11/lib/python/site-packages/zmq/sugar/socket.py\", line 311, in bind\n",
            "    super().bind(addr)\n",
            "  File \"_zmq.py\", line 898, in zmq.backend.cython._zmq.Socket.bind\n",
            "  File \"_zmq.py\", line 160, in zmq.backend.cython._zmq._check_rc\n",
            "zmq.error.ZMQError: Address already in use (addr='tcp://127.0.0.1:9066')\n"
          ]
        },
        {
          "ename": "SystemExit",
          "evalue": "1",
          "output_type": "error",
          "traceback": [
            "An exception has occurred, use %tb to see the full traceback.\n",
            "\u001b[0;31mSystemExit\u001b[0m\u001b[0;31m:\u001b[0m 1\n"
          ]
        },
        {
          "name": "stderr",
          "output_type": "stream",
          "text": [
            "/Users/juanpablo.cuellar/Library/Python/3.11/lib/python/site-packages/IPython/core/interactiveshell.py:3585: UserWarning: To exit: use 'exit', 'quit', or Ctrl-D.\n",
            "  warn(\"To exit: use 'exit', 'quit', or Ctrl-D.\", stacklevel=1)\n"
          ]
        }
      ],
      "source": [
        "from flask import Flask, request\n",
        "from flask_restx import Api, Resource, fields\n",
        "import joblib\n",
        "\n",
        "# Load the trained models\n",
        "model = joblib.load('despliegue/model.pkl')\n",
        "model_rf = joblib.load('despliegue/model_rf.pkl')\n",
        "\n",
        "# Create the Flask app\n",
        "app = Flask(__name__)\n",
        "api = Api(app, version='1.0', title='Car Price Prediction API', description='API for predicting car prices')\n",
        "\n",
        "# Define the input and output fields\n",
        "precio_carro = api.model('PrecioCarro', {\n",
        "    'Year': fields.Integer(required=True, description='Year of the car'),\n",
        "    'Mileage': fields.Integer(required=True, description='Mileage of the car'),\n",
        "    'State': fields.String(required=True, description='State of the car'),\n",
        "    'Make': fields.String(required=True, description='Make of the car'),\n",
        "    'Model': fields.String(required=True, description='Model of the car')\n",
        "})\n",
        "\n",
        "prediction = api.model('Prediction', {\n",
        "    'Price': fields.Float(description='Predicted price of the car')\n",
        "})\n",
        "\n",
        "# Define the API endpoint\n",
        "@api.route('/predict')\n",
        "class PredictCarPrice(Resource):\n",
        "    @api.expect(precio_carro, validate=True)\n",
        "    @api.response(200, 'Success', prediction)\n",
        "    def post(self):\n",
        "        # Get the input data from the request\n",
        "        data = request.json\n",
        "\n",
        "        # Preprocess the input data\n",
        "        year = data['Year']\n",
        "        mileage = data['Mileage']\n",
        "        state = data['State']\n",
        "        make = data['Make']\n",
        "        model = data['Model']\n",
        "\n",
        "        # Make the prediction using the linear regression model\n",
        "        price_lr = model.predict([[year, mileage, state, make, model]])\n",
        "\n",
        "        # Make the prediction using the random forest model\n",
        "        price_rf = model_rf.predict([[year, mileage, state, make, model]])\n",
        "\n",
        "        # Return the predictions as a response\n",
        "        return {'Price_LR': price_lr[0], 'Price_RF': price_rf[0]}\n",
        "\n",
        "# Run the Flask app\n",
        "if __name__ == '__main__':\n",
        "    app.run(debug=True)"
      ]
    },
    {
      "cell_type": "code",
      "execution_count": null,
      "metadata": {
        "id": "guMG3ZyJ3B7S"
      },
      "outputs": [],
      "source": [
        "\n",
        "# Create the Flask app\n",
        "app = Flask(__name__)\n",
        "api = Api(app, version='1.0', title='Car Price Prediction API', description='API for predicting car prices')\n",
        "\n",
        "# Define the input and output fields\n",
        "precio_carro = api.model('PrecioCarro', {\n",
        "    'Year': fields.Integer(required=True, description='Year of the car'),\n",
        "    'Mileage': fields.Integer(required=True, description='Mileage of the car'),\n",
        "    'State': fields.String(required=True, description='State of the car'),\n",
        "    'Make': fields.String(required=True, description='Make of the car'),\n",
        "    'Model': fields.String(required=True, description='Model of the car')\n",
        "})\n",
        "\n",
        "prediction = api.model('Prediction', {\n",
        "    'Price': fields.Float(description='Predicted price of the car')\n",
        "})\n",
        "\n",
        "# Define the API endpoint\n",
        "@api.route('/predict')\n",
        "class PredictCarPrice(Resource):\n",
        "    @api.expect(precio_carro, validate=True)\n",
        "    @api.response(200, 'Success', prediction)\n",
        "    def post(self):\n",
        "        # Get the input data from the request\n",
        "        data = request.json\n",
        "\n",
        "        # Preprocess the input data\n",
        "        year = data['Year']\n",
        "        mileage = data['Mileage']\n",
        "        state = data['State']\n",
        "        make = data['Make']\n",
        "        model = data['Model']\n",
        "\n",
        "        # Make the prediction\n",
        "        price = model.predict([[year, mileage, state, make, model]])\n",
        "\n",
        "        # Return the prediction as a response\n",
        "        return {'Price': price[0]}\n",
        "\n",
        "# Run the Flask app\n",
        "if __name__ == '__main__':\n",
        "    app.run(debug=True)"
      ]
    },
    {
      "cell_type": "code",
      "execution_count": null,
      "metadata": {
        "id": "xjf-72cn3B7S"
      },
      "outputs": [],
      "source": [
        "from flask import Flask, request, render_template\n",
        "from flask_restx import Api, Resource, fields\n",
        "import joblib\n",
        "import streamlit as st"
      ]
    },
    {
      "cell_type": "code",
      "execution_count": null,
      "metadata": {
        "id": "I2_MJDfC3B7T",
        "outputId": "f0c5b857-b970-49ac-e3ec-070eaed9be2e"
      },
      "outputs": [
        {
          "name": "stderr",
          "output_type": "stream",
          "text": [
            "2024-09-06 22:55:35.714 Thread 'MainThread': missing ScriptRunContext! This warning can be ignored when running in bare mode.\n",
            "2024-09-06 22:55:35.716 Thread 'MainThread': missing ScriptRunContext! This warning can be ignored when running in bare mode.\n",
            "2024-09-06 22:55:35.717 Thread 'MainThread': missing ScriptRunContext! This warning can be ignored when running in bare mode.\n",
            "2024-09-06 22:55:35.718 Thread 'MainThread': missing ScriptRunContext! This warning can be ignored when running in bare mode.\n",
            "2024-09-06 22:55:35.718 Thread 'MainThread': missing ScriptRunContext! This warning can be ignored when running in bare mode.\n"
          ]
        }
      ],
      "source": [
        "app = Flask(__name__)\n",
        "\n",
        "api = Api(\n",
        "    app,\n",
        "    version='1.0',\n",
        "    title='Car Price Prediction API',\n",
        "    description='Car Price Prediction API')\n",
        "\n",
        "ns = api.namespace('predict',\n",
        "     description='Price Prediction')\n",
        "\n",
        "parser = api.parser()\n",
        "\n",
        "parser.add_argument('Year', st.slider('Select a car Year', 1990, 2024), help='Select a car Year')\n",
        "parser.add_argument('Mileage', type=int, help='Select a car Mileage')\n",
        "parser.add_argument('State', type=str, help='Select a car State')\n",
        "parser.add_argument('Make', type=str, help='Select a car Make')\n",
        "parser.add_argument('Model', type=str, help='Select a car Model')\n",
        "\n",
        "\n",
        "\n",
        "\n",
        "resource_fields = api.model('Resource', {\n",
        "    'result': fields.String,\n",
        "})"
      ]
    },
    {
      "cell_type": "code",
      "execution_count": null,
      "metadata": {
        "id": "W2xm00Vn3B7T",
        "outputId": "1ad73324-91f8-494c-97c5-a8325e7d9920"
      },
      "outputs": [
        {
          "name": "stdout",
          "output_type": "stream",
          "text": [
            "\u001b[0m\n",
            "\u001b[34m\u001b[1m  You can now view your Streamlit app in your browser.\u001b[0m\n",
            "\u001b[0m\n",
            "\u001b[34m  Local URL: \u001b[0m\u001b[1mhttp://localhost:8503\u001b[0m\n",
            "\u001b[34m  Network URL: \u001b[0m\u001b[1mhttp://192.168.0.7:8503\u001b[0m\n",
            "\u001b[0m\n",
            "2024-09-06 22:59:10.087 Uncaught app exception\n",
            "Traceback (most recent call last):\n",
            "  File \"/Users/juanpablo.cuellar/Library/Python/3.11/lib/python/site-packages/streamlit/runtime/scriptrunner/exec_code.py\", line 88, in exec_func_with_error_handling\n",
            "    result = func()\n",
            "             ^^^^^^\n",
            "  File \"/Users/juanpablo.cuellar/Library/Python/3.11/lib/python/site-packages/streamlit/runtime/scriptrunner/script_runner.py\", line 590, in code_to_exec\n",
            "    exec(code, module.__dict__)\n",
            "  File \"/Users/juanpablo.cuellar/Library/CloudStorage/OneDrive-Ogilvy/Documents/Uni/app2.py\", line 8, in <module>\n",
            "    model = joblib.load('model_xgb.pkl')\n",
            "            ^^^^^^^^^^^^^^^^^^^^^^^^^^^^\n",
            "  File \"/Users/juanpablo.cuellar/Library/Python/3.11/lib/python/site-packages/joblib/numpy_pickle.py\", line 650, in load\n",
            "    with open(filename, 'rb') as f:\n",
            "         ^^^^^^^^^^^^^^^^^^^^\n",
            "FileNotFoundError: [Errno 2] No such file or directory: 'model_xgb.pkl'\n",
            "^C\n",
            "\u001b[34m  Stopping...\u001b[0m\n"
          ]
        }
      ],
      "source": [
        "!streamlit run app2.py\n"
      ]
    },
    {
      "cell_type": "code",
      "execution_count": null,
      "metadata": {
        "id": "mNA7ahSS3B7T"
      },
      "outputs": [],
      "source": [
        "@ns.route('/')\n",
        "class PrediccionAPI(Resource):\n",
        "\n",
        "    @api.doc(parser=parser)\n",
        "    @api.marshal_with(resource_fields)\n",
        "    def get(self):\n",
        "        args = parser.parse_args()\n",
        "\n",
        "        Year = st.slider('Select a car Year', 1990, 2024)\n",
        "        Mileage = st.slider('Select a car Mileage', 0, 300000)\n",
        "        State = st.selectbox('Select a car State', df['State'].unique())\n",
        "        Make = st.selectbox('Select a car Make', df['Make'].unique())\n",
        "        Model = st.selectbox('Select a car Model', df['Model'].unique())\n",
        "\n",
        "        print(year, mileage, state, make, model)\n",
        "\n",
        "        return {\n",
        "         \"result\": predict(year, mileage, state, make, model)\n",
        "        }, 200\n",
        "\n",
        ""
      ]
    },
    {
      "cell_type": "code",
      "execution_count": null,
      "metadata": {
        "id": "-RscOZ803B7T",
        "outputId": "99fbecbd-f467-4ed2-b84f-72416ded8a2c"
      },
      "outputs": [
        {
          "name": "stdout",
          "output_type": "stream",
          "text": [
            " * Serving Flask app '__main__'\n",
            " * Debug mode: on\n"
          ]
        },
        {
          "name": "stderr",
          "output_type": "stream",
          "text": [
            "\u001b[31m\u001b[1mWARNING: This is a development server. Do not use it in a production deployment. Use a production WSGI server instead.\u001b[0m\n",
            " * Running on all addresses (0.0.0.0)\n",
            " * Running on http://127.0.0.1:7000\n",
            " * Running on http://192.168.0.7:7000\n",
            "\u001b[33mPress CTRL+C to quit\u001b[0m\n",
            "127.0.0.1 - - [06/Sep/2024 22:57:30] \"GET / HTTP/1.1\" 200 -\n",
            "127.0.0.1 - - [06/Sep/2024 22:57:30] \"GET /swaggerui/droid-sans.css HTTP/1.1\" 200 -\n",
            "127.0.0.1 - - [06/Sep/2024 22:57:30] \"GET /swaggerui/swagger-ui.css HTTP/1.1\" 200 -\n",
            "127.0.0.1 - - [06/Sep/2024 22:57:30] \"GET /swaggerui/swagger-ui-bundle.js HTTP/1.1\" 200 -\n",
            "127.0.0.1 - - [06/Sep/2024 22:57:30] \"GET /swaggerui/swagger-ui-standalone-preset.js HTTP/1.1\" 200 -\n",
            "127.0.0.1 - - [06/Sep/2024 22:57:31] \"GET /swagger.json HTTP/1.1\" 200 -\n",
            "127.0.0.1 - - [06/Sep/2024 22:57:31] \"GET /swaggerui/favicon-32x32.png HTTP/1.1\" 200 -\n"
          ]
        }
      ],
      "source": [
        "app.run(debug=True, use_reloader=False, host='0.0.0.0', port=7000)"
      ]
    },
    {
      "cell_type": "code",
      "execution_count": null,
      "metadata": {
        "id": "Np9K2joy3B7T"
      },
      "outputs": [],
      "source": [
        "import streamlit as st\n",
        "from flask_restx import Resource, Namespace, fields\n",
        "\n",
        "ns = Namespace('prediccion', description='Predicción de precios de carros')\n",
        "parser = ns.parser()\n",
        "resource_fields = ns.model('Resource', {\n",
        "    'result': fields.String,\n",
        "})\n",
        "\n",
        "\n",
        "\n",
        "@ns.route('/')\n",
        "class PrediccionAPI(Resource):\n",
        "\n",
        "    @api.doc(parser=parser)\n",
        "    @api.marshal_with(resource_fields)\n",
        "    def get(self):\n",
        "\n",
        "\n",
        "        # Widgets de Streamlit para seleccionar los parámetros\n",
        "        Year = st.slider('Select a car Year', 1990, 2024)\n",
        "        Mileage = st.slider('Select a car Mileage', 0, 300000)\n",
        "        State = st.selectbox('Select a car State', df['State'].unique())\n",
        "        Make = st.selectbox('Select a car Make', df['Make'].unique())\n",
        "        Model = st.selectbox('Select a car Model', df['Model'].unique())\n",
        "\n",
        "        st.write(f'Year: {Year}, Mileage: {Mileage}, State: {State}, Make: {Make}, Model: {Model}')\n",
        "        # Imprimir los valores seleccionados\n",
        "        #print(Year, Mileage, State, Make, Model)\n",
        "\n",
        "        # Devolver el resultado de la predicción\n",
        "        return {\n",
        "            \"result\": predict(Year, Mileage, State, Make, Model)\n",
        "        }, 200"
      ]
    },
    {
      "cell_type": "code",
      "execution_count": null,
      "metadata": {
        "id": "1eAtuJ-Q3B7T"
      },
      "outputs": [],
      "source": [
        "@ns.route('/')\n",
        "def index():\n",
        "\n",
        "    brand = sorted(df['Make'].unique())\n",
        "    model = sorted(df['Model'].unique())\n",
        "    year = sorted(df['Year'].unique(), reverse=True)\n",
        "    state = sorted(df['State'].unique())\n",
        "    mileage = sorted(df['Mileage'].unique())\n",
        "\n",
        "    return render_template('index.html', brand=brand, model=model, year=year, state=state, mileage=mileage)\n",
        "\n"
      ]
    },
    {
      "cell_type": "code",
      "execution_count": null,
      "metadata": {
        "id": "b8YE-OqJ3B7U",
        "outputId": "432c7c74-a99f-4357-b146-f69df1b2820b"
      },
      "outputs": [
        {
          "ename": "NameError",
          "evalue": "name 'Flask' is not defined",
          "output_type": "error",
          "traceback": [
            "\u001b[0;31m---------------------------------------------------------------------------\u001b[0m",
            "\u001b[0;31mNameError\u001b[0m                                 Traceback (most recent call last)",
            "Cell \u001b[0;32mIn[40], line 2\u001b[0m\n\u001b[1;32m      1\u001b[0m \u001b[38;5;66;03m# Create the Flask app\u001b[39;00m\n\u001b[0;32m----> 2\u001b[0m app \u001b[38;5;241m=\u001b[39m \u001b[43mFlask\u001b[49m(\u001b[38;5;18m__name__\u001b[39m)\n\u001b[1;32m      4\u001b[0m car \u001b[38;5;241m=\u001b[39m pd\u001b[38;5;241m.\u001b[39mread_csv(\u001b[38;5;124m'\u001b[39m\u001b[38;5;124mhttps://github.com/sergiomora03/AdvancedTopicsAnalytics/raw/main/datasets/dataTrain_carListings.zip\u001b[39m\u001b[38;5;124m'\u001b[39m)\n\u001b[1;32m      6\u001b[0m \u001b[38;5;129m@app\u001b[39m\u001b[38;5;241m.\u001b[39mroute(\u001b[38;5;124m'\u001b[39m\u001b[38;5;124m/\u001b[39m\u001b[38;5;124m'\u001b[39m)\n\u001b[1;32m      7\u001b[0m \u001b[38;5;28;01mdef\u001b[39;00m \u001b[38;5;21mindex\u001b[39m():\n",
            "\u001b[0;31mNameError\u001b[0m: name 'Flask' is not defined"
          ]
        }
      ],
      "source": [
        "# Create the Flask app\n",
        "app = Flask(__name__)\n",
        "\n",
        "car = pd.read_csv('https://github.com/sergiomora03/AdvancedTopicsAnalytics/raw/main/datasets/dataTrain_carListings.zip')\n",
        "\n",
        "@app.route('/')\n",
        "def index():\n",
        "    make = sorted(car['Make'].unique())\n",
        "    model = sorted(car['Model'].unique())\n",
        "    year = sorted(car['Year'].unique(), reverse=True)\n",
        "    state = sorted(car['State'].unique())\n",
        "    mileage = sorted(car['Mileage'].unique())\n",
        "\n",
        "    return render_template('index.html', make=make, model=model, year=year, state=state, mileage=mileage)\n",
        "\n",
        "if __name__ == '__main__':\n",
        "    app.run(debug=True, use_reloader=False, host='0.0.0.0', port=7000)"
      ]
    },
    {
      "cell_type": "code",
      "execution_count": null,
      "metadata": {
        "id": "iqWtbyPt3B7U"
      },
      "outputs": [],
      "source": [
        "#Correr App\n",
        "app.run(debug=True, use_reloader=False, host='0.0.0.0', port=8000)"
      ]
    },
    {
      "cell_type": "code",
      "execution_count": null,
      "metadata": {
        "id": "rxO3-ibJ3B7U"
      },
      "outputs": [],
      "source": [
        "import ipywidgets as widgets\n",
        "from IPython.display import display\n",
        "import pandas as pd\n",
        "\n",
        "# Widgets de ipywidgets para seleccionar los parámetros\n",
        "year_slider = widgets.IntSlider(value=2000, min=1990, max=2024, step=1, description='Year:')\n",
        "mileage_slider = widgets.IntSlider(value=50000, min=0, max=300000, step=1000, description='Mileage:')\n",
        "state_dropdown = widgets.Dropdown(options=df['State'].unique(), description='State:')\n",
        "make_dropdown = widgets.Dropdown(options=df['Make'].unique(), description='Make:')\n",
        "model_dropdown = widgets.Dropdown(options=df['Model'].unique(), description='Model:')\n",
        "\n",
        "# Mostrar los widgets\n",
        "display(year_slider, mileage_slider, state_dropdown, make_dropdown, model_dropdown)\n",
        "\n",
        "# Función para mostrar los valores seleccionados\n",
        "def display_values(change):\n",
        "    year = year_slider.value\n",
        "    mileage = mileage_slider.value\n",
        "    state = state_dropdown.value\n",
        "    make = make_dropdown.value\n",
        "    model = model_dropdown.value\n",
        "    print(f'Year: {year}, Mileage: {mileage}, State: {state}, Make: {make}, Model: {model}')\n",
        "\n",
        "# Vincular la función a los cambios en los widgets\n",
        "year_slider.observe(display_values, names='value')\n",
        "mileage_slider.observe(display_values, names='value')\n",
        "state_dropdown.observe(display_values, names='value')\n",
        "make_dropdown.observe(display_values, names='value')\n",
        "model_dropdown.observe(display_values, names='value')"
      ]
    },
    {
      "cell_type": "code",
      "execution_count": null,
      "metadata": {
        "id": "f5V9ubt23B7U"
      },
      "outputs": [],
      "source": [
        "from flask import Flask, render_template_string\n",
        "import pandas as pd\n",
        "import ipywidgets as widgets\n",
        "from ipywidgets_bokeh import IPyWidget\n",
        "\n",
        "app = Flask(__name__)\n",
        "\n",
        "\n",
        "# Widgets de ipywidgets para seleccionar los parámetros\n",
        "year_slider = widgets.IntSlider(value=2000, min=1990, max=2024, step=1, description='Year:')\n",
        "mileage_slider = widgets.IntSlider(value=50000, min=0, max=300000, step=1000, description='Mileage:')\n",
        "state_dropdown = widgets.Dropdown(options=df['State'].unique(), description='State:')\n",
        "make_dropdown = widgets.Dropdown(options=df['Make'].unique(), description='Make:')\n",
        "model_dropdown = widgets.Dropdown(options=df['Model'].unique(), description='Model:')\n",
        "\n",
        "# Función para mostrar los valores seleccionados\n",
        "def display_values(change):\n",
        "    year = year_slider.value\n",
        "    mileage = mileage_slider.value\n",
        "    state = state_dropdown.value\n",
        "    make = make_dropdown.value\n",
        "    model = model_dropdown.value\n",
        "    print(f'Year: {year}, Mileage: {mileage}, State: {state}, Make: {make}, Model: {model}')\n",
        "\n",
        "# Vincular la función a los cambios en los widgets\n",
        "year_slider.observe(display_values, names='value')\n",
        "mileage_slider.observe(display_values, names='value')\n",
        "state_dropdown.observe(display_values, names='value')\n",
        "make_dropdown.observe(display_values, names='value')\n",
        "model_dropdown.observe(display_values, names='value')\n",
        "\n",
        "@app.route('/')\n",
        "def index():\n",
        "    # Renderizar los widgets en la plantilla\n",
        "    year_widget = IPyWidget(year_slider)\n",
        "    mileage_widget = IPyWidget(mileage_slider)\n",
        "    state_widget = IPyWidget(state_dropdown)\n",
        "    make_widget = IPyWidget(make_dropdown)\n",
        "    model_widget = IPyWidget(model_dropdown)\n",
        "\n",
        "    return render_template_string('''\n",
        "        <!DOCTYPE html>\n",
        "        <html>\n",
        "        <head>\n",
        "            <title>Car Prediction</title>\n",
        "            <link rel=\"stylesheet\" href=\"https://cdn.bokeh.org/bokeh/release/bokeh-2.3.3.min.css\" type=\"text/css\" />\n",
        "            <script type=\"text/javascript\" src=\"https://cdn.bokeh.org/bokeh/release/bokeh-2.3.3.min.js\"></script>\n",
        "            <script type=\"text/javascript\" src=\"https://cdn.bokeh.org/bokeh/release/bokeh-widgets-2.3.3.min.js\"></script>\n",
        "            <script type=\"text/javascript\" src=\"https://cdn.bokeh.org/bokeh/release/bokeh-tables-2.3.3.min.js\"></script>\n",
        "            <script type=\"text/javascript\" src=\"https://cdn.bokeh.org/bokeh/release/bokeh-gl-2.3.3.min.js\"></script>\n",
        "        </head>\n",
        "        <body>\n",
        "            <h1>Car Prediction</h1>\n",
        "            <div>\n",
        "                <h3>Select a car Year</h3>\n",
        "                {{ year_widget | safe }}\n",
        "            </div>\n",
        "            <div>\n",
        "                <h3>Select a car Mileage</h3>\n",
        "                {{ mileage_widget | safe }}\n",
        "            </div>\n",
        "            <div>\n",
        "                <h3>Select a car State</h3>\n",
        "                {{ state_widget | safe }}\n",
        "            </div>\n",
        "            <div>\n",
        "                <h3>Select a car Make</h3>\n",
        "                {{ make_widget | safe }}\n",
        "            </div>\n",
        "            <div>\n",
        "                <h3>Select a car Model</h3>\n",
        "                {{ model_widget | safe }}\n",
        "            </div>\n",
        "        </body>\n",
        "        </html>\n",
        "    ''', year_widget=year_widget, mileage_widget=mileage_widget, state_widget=state_widget, make_widget=make_widget, model_widget=model_widget)\n",
        "\n",
        "if __name__ == '__main__':\n",
        "    app.run(debug=True)"
      ]
    },
    {
      "cell_type": "markdown",
      "metadata": {
        "id": "G35ZsG1O3B7V"
      },
      "source": [
        "### APi2"
      ]
    },
    {
      "cell_type": "markdown",
      "source": [
        "![Captura de pantalla 2024-09-07 a la(s) 12.02.25 a. m..png](data:image/png;base64,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)"
      ],
      "metadata": {
        "id": "3UqfqMDf3Gsw"
      }
    },
    {
      "cell_type": "code",
      "execution_count": null,
      "metadata": {
        "id": "dmhf4LVE3B7V",
        "outputId": "739d5eba-4eaa-492e-c774-41b52af69116"
      },
      "outputs": [
        {
          "name": "stdout",
          "output_type": "stream",
          "text": [
            "\u001b[0m\n",
            "\u001b[34m\u001b[1m  You can now view your Streamlit app in your browser.\u001b[0m\n",
            "\u001b[0m\n",
            "\u001b[34m  Local URL: \u001b[0m\u001b[1mhttp://localhost:8503\u001b[0m\n",
            "\u001b[34m  Network URL: \u001b[0m\u001b[1mhttp://192.168.0.7:8503\u001b[0m\n",
            "\u001b[0m\n",
            "^C\n",
            "\u001b[34m  Stopping...\u001b[0m\n"
          ]
        }
      ],
      "source": [
        "!streamlit run app2.py"
      ]
    },
    {
      "cell_type": "markdown",
      "metadata": {
        "id": "iOQHDPnS3B7V"
      },
      "source": []
    },
    {
      "cell_type": "markdown",
      "metadata": {
        "id": "HnHRJiw73B7V"
      },
      "source": [
        "## Pruebas de API"
      ]
    },
    {
      "cell_type": "markdown",
      "metadata": {
        "id": "YTe8utBx3B7V"
      },
      "source": [
        "- Después de ver que la APP se había ejecuado de forma local se probó con Flask, pero no generaron el resultado esperado."
      ]
    },
    {
      "cell_type": "code",
      "execution_count": null,
      "metadata": {
        "id": "b4L9xJos3B7V"
      },
      "outputs": [],
      "source": [
        "loaded_model = joblib.load('model_rf.pkl')"
      ]
    },
    {
      "cell_type": "code",
      "execution_count": null,
      "metadata": {
        "id": "J0hhN1wJ3B7V",
        "outputId": "b9c04b8f-94d7-4f13-f128-b72a9abe372b"
      },
      "outputs": [
        {
          "name": "stdout",
          "output_type": "stream",
          "text": [
            " * Serving Flask app '__main__'\n",
            " * Debug mode: off\n"
          ]
        },
        {
          "name": "stderr",
          "output_type": "stream",
          "text": [
            "\u001b[31m\u001b[1mWARNING: This is a development server. Do not use it in a production deployment. Use a production WSGI server instead.\u001b[0m\n",
            " * Running on http://127.0.0.1:7000\n",
            "\u001b[33mPress CTRL+C to quit\u001b[0m\n",
            "127.0.0.1 - - [06/Sep/2024 23:17:10] \"\u001b[33mGET / HTTP/1.1\u001b[0m\" 404 -\n",
            "127.0.0.1 - - [06/Sep/2024 23:18:10] \"\u001b[33mGET / HTTP/1.1\u001b[0m\" 404 -\n",
            "127.0.0.1 - - [06/Sep/2024 23:18:39] \"\u001b[33mGET / HTTP/1.1\u001b[0m\" 404 -\n"
          ]
        }
      ],
      "source": [
        "from flask import Flask, request, jsonify\n",
        "import joblib\n",
        "import pandas as pd\n",
        "\n",
        "app = Flask(__name__)\n",
        "\n",
        "# Cargar el modelo\n",
        "model = joblib.load('model_rf.pkl')\n",
        "\n",
        "@app.route('/predict', methods=['POST'])\n",
        "def predict():\n",
        "    try:\n",
        "        # Obtener los datos del cuerpo de la solicitud\n",
        "        data = request.json\n",
        "\n",
        "        # Convertir los datos a un DataFrame\n",
        "        df2 = pd.DataFrame(data)\n",
        "\n",
        "        # Hacer predicciones\n",
        "        predictions = model.predict(df2)\n",
        "\n",
        "        # Convertir las predicciones a una lista\n",
        "        predictions_list = predictions.tolist()\n",
        "\n",
        "        # Devolver las predicciones en formato JSON\n",
        "        return jsonify(predictions=predictions_list)\n",
        "\n",
        "    except Exception as e:\n",
        "        return jsonify(error=str(e)), 400\n",
        "\n",
        "if __name__ == '__main__':\n",
        "    app.run(port=5000)"
      ]
    },
    {
      "cell_type": "code",
      "execution_count": null,
      "metadata": {
        "id": "y1lHMtm63B7V"
      },
      "outputs": [],
      "source": [
        "from flask import Flask, request, jsonify\n",
        "import joblib\n",
        "import pandas as pd\n",
        "\n",
        "app = Flask(__name__)\n",
        "\n",
        "# Cargar el modelo\n",
        "model = joblib.load('xgboost_model.pkl')\n",
        "@app.route('/predict', methods=['POST'])\n",
        "def predict():\n",
        "    try:\n",
        "        data = request.json\n",
        "        df = pd.DataFrame(data)\n",
        "\n",
        "        expected_columns = [\n",
        "            'Year', 'Mileage', 'State_ CA', 'State_ CO', 'State_ FL',\n",
        "            'State_ GA', 'State_ IL', 'State_ IN', 'State_ KY', 'State_ MA',\n",
        "            'State_ MD', 'State_ MO', 'State_ NC', 'State_ NJ', 'State_ NY',\n",
        "            'State_ OH', 'State_ PA', 'State_ TN', 'State_ TX', 'State_ VA',\n",
        "            'State_ WA', 'State_Otros', 'Make_Buick', 'Make_Cadillac',\n",
        "            'Make_Chevrolet', 'Make_Chrysler', 'Make_Dodge', 'Make_Ford',\n",
        "            'Make_GMC', 'Make_Honda', 'Make_Hyundai', 'Make_Jeep', 'Make_Kia',\n",
        "            'Make_Lexus', 'Make_MINI', 'Make_Mercedes-Benz', 'Make_Nissan',\n",
        "            'Make_Otros', 'Make_Ram', 'Make_Subaru', 'Make_Toyota',\n",
        "            'Make_Volkswagen', 'Model_Accord', 'Model_CamaroCoupe', 'Model_CamrySE',\n",
        "            'Model_Civic', 'Model_CorollaLE', 'Model_EquinoxFWD', 'Model_F-1504WD',\n",
        "            'Model_F-150XLT', 'Model_FusionSE', 'Model_Grand', 'Model_Jetta',\n",
        "            'Model_MalibuLT', 'Model_Otros', 'Model_Ram', 'Model_Santa',\n",
        "            'Model_Sierra', 'Model_Silverado', 'Model_Super', 'Model_Town',\n",
        "            'Model_Wrangler'\n",
        "        ]\n",
        "\n",
        "        for col in expected_columns:\n",
        "            if col not in df.columns:\n",
        "                df[col] = 0\n",
        "\n",
        "        df = df[expected_columns]\n",
        "\n",
        "        # Hacer predicciones\n",
        "        predictions = model.predict(df)\n",
        "        # Convertir las predicciones a una lista\n",
        "        predictions_list = predictions.tolist()\n",
        "        # Devolver las predicciones en formato JSON\n",
        "        return jsonify(predictions=predictions_list)\n",
        "\n",
        "    except Exception as e:\n",
        "        return jsonify(error=str(e)), 400\n",
        "\n",
        "if __name__ == '__main__':\n",
        "    app.run(port=5000)"
      ]
    },
    {
      "cell_type": "code",
      "execution_count": null,
      "metadata": {
        "id": "ejuluHJ43B7W",
        "outputId": "507f4d27-52e5-4154-926c-a8e344b03902"
      },
      "outputs": [
        {
          "name": "stdout",
          "output_type": "stream",
          "text": [
            " * Serving Flask app '__main__'\n",
            " * Debug mode: on\n"
          ]
        },
        {
          "name": "stderr",
          "output_type": "stream",
          "text": [
            "\u001b[31m\u001b[1mWARNING: This is a development server. Do not use it in a production deployment. Use a production WSGI server instead.\u001b[0m\n",
            " * Running on all addresses (0.0.0.0)\n",
            " * Running on http://127.0.0.1:8000\n",
            " * Running on http://192.168.0.7:8000\n",
            "\u001b[33mPress CTRL+C to quit\u001b[0m\n",
            "127.0.0.1 - - [06/Sep/2024 23:31:27] \"GET / HTTP/1.1\" 200 -\n",
            "127.0.0.1 - - [06/Sep/2024 23:31:28] \"\u001b[36mGET /static/css/style.css HTTP/1.1\u001b[0m\" 304 -\n"
          ]
        }
      ],
      "source": [
        "from flask import Flask, request, render_template, jsonify\n",
        "import pandas as pd\n",
        "from sklearn.preprocessing import OrdinalEncoder\n",
        "import pickle\n",
        "\n",
        "app = Flask(__name__)\n",
        "\n",
        "# Carga el encoder preentrenado\n",
        "with open('ordinal_encoder.pkl', 'rb') as f:\n",
        "    ordinal_encoder = pickle.load(f)\n",
        "\n",
        "# Carga los datos originales para la predicción (si es necesario)\n",
        "data = pd.read_csv('https://github.com/sergiomora03/AdvancedTopicsAnalytics/raw/main/datasets/dataTrain_carListings.zip')\n",
        "\n",
        "@app.route('/')\n",
        "def home():\n",
        "    # Renderiza un formulario HTML simple\n",
        "    return render_template('index.html')\n",
        "\n",
        "@app.route('/predict', methods=['POST'])\n",
        "def predict():\n",
        "    year = request.form.get('year')\n",
        "    mileage = request.form.get('mileage')\n",
        "    make = request.form.get('make')\n",
        "    state = request.form.get('state')\n",
        "    model = request.form.get('model')\n",
        "\n",
        "    # Prepara los datos para la predicción\n",
        "    Y_pred = pd.DataFrame([[year, mileage, make, state, model]], columns=['Year', 'Mileage', 'Make', 'State', 'Model'])\n",
        "\n",
        "    # Asegura que las columnas estén en el orden correcto\n",
        "    Y_pred = Y_pred[['State', 'Make', 'Model']]\n",
        "\n",
        "    # Aplica la codificación\n",
        "    Y_pred[['State', 'Make', 'Model']] = ordinal_encoder.transform(Y_pred[['State', 'Make', 'Model']])\n",
        "\n",
        "    # Aquí podrías aplicar un modelo de predicción (ej: RandomForest, etc.)\n",
        "    # Ejemplo de predicción ficticia\n",
        "    prediction = 20000  # Por ejemplo, un valor predicho\n",
        "\n",
        "    # Devuelve la predicción como respuesta JSON\n",
        "    return jsonify({'prediction': prediction})\n",
        "\n",
        "if __name__ == '__main__':\n",
        "    app.run(debug=True)\n"
      ]
    },
    {
      "cell_type": "code",
      "execution_count": null,
      "metadata": {
        "id": "hYF518EM3B7W",
        "outputId": "248ba637-b8e6-448e-9f4e-3b0097656773"
      },
      "outputs": [
        {
          "name": "stdout",
          "output_type": "stream",
          "text": [
            " * Serving Flask app '__main__'\n",
            " * Debug mode: on\n"
          ]
        },
        {
          "name": "stderr",
          "output_type": "stream",
          "text": [
            "\u001b[31m\u001b[1mWARNING: This is a development server. Do not use it in a production deployment. Use a production WSGI server instead.\u001b[0m\n",
            " * Running on http://127.0.0.1:5000\n",
            "\u001b[33mPress CTRL+C to quit\u001b[0m\n",
            " * Restarting with watchdog (fsevents)\n",
            "Traceback (most recent call last):\n",
            "  File \"<frozen runpy>\", line 198, in _run_module_as_main\n",
            "  File \"<frozen runpy>\", line 88, in _run_code\n",
            "  File \"/Users/juanpablo.cuellar/Library/Python/3.11/lib/python/site-packages/ipykernel_launcher.py\", line 18, in <module>\n",
            "    app.launch_new_instance()\n",
            "  File \"/Users/juanpablo.cuellar/Library/Python/3.11/lib/python/site-packages/traitlets/config/application.py\", line 1074, in launch_instance\n",
            "    app.initialize(argv)\n",
            "  File \"/Users/juanpablo.cuellar/Library/Python/3.11/lib/python/site-packages/traitlets/config/application.py\", line 118, in inner\n",
            "    return method(app, *args, **kwargs)\n",
            "           ^^^^^^^^^^^^^^^^^^^^^^^^^^^^\n",
            "  File \"/Users/juanpablo.cuellar/Library/Python/3.11/lib/python/site-packages/ipykernel/kernelapp.py\", line 692, in initialize\n",
            "    self.init_sockets()\n",
            "  File \"/Users/juanpablo.cuellar/Library/Python/3.11/lib/python/site-packages/ipykernel/kernelapp.py\", line 331, in init_sockets\n",
            "    self.shell_port = self._bind_socket(self.shell_socket, self.shell_port)\n",
            "                      ^^^^^^^^^^^^^^^^^^^^^^^^^^^^^^^^^^^^^^^^^^^^^^^^^^^^^\n",
            "  File \"/Users/juanpablo.cuellar/Library/Python/3.11/lib/python/site-packages/ipykernel/kernelapp.py\", line 253, in _bind_socket\n",
            "    return self._try_bind_socket(s, port)\n",
            "           ^^^^^^^^^^^^^^^^^^^^^^^^^^^^^^\n",
            "  File \"/Users/juanpablo.cuellar/Library/Python/3.11/lib/python/site-packages/ipykernel/kernelapp.py\", line 229, in _try_bind_socket\n",
            "    s.bind(\"tcp://%s:%i\" % (self.ip, port))\n",
            "  File \"/Users/juanpablo.cuellar/Library/Python/3.11/lib/python/site-packages/zmq/sugar/socket.py\", line 311, in bind\n",
            "    super().bind(addr)\n",
            "  File \"_zmq.py\", line 898, in zmq.backend.cython._zmq.Socket.bind\n",
            "  File \"_zmq.py\", line 160, in zmq.backend.cython._zmq._check_rc\n",
            "zmq.error.ZMQError: Address already in use (addr='tcp://127.0.0.1:9066')\n"
          ]
        },
        {
          "ename": "SystemExit",
          "evalue": "1",
          "output_type": "error",
          "traceback": [
            "An exception has occurred, use %tb to see the full traceback.\n",
            "\u001b[0;31mSystemExit\u001b[0m\u001b[0;31m:\u001b[0m 1\n"
          ]
        },
        {
          "name": "stderr",
          "output_type": "stream",
          "text": [
            "/Users/juanpablo.cuellar/Library/Python/3.11/lib/python/site-packages/IPython/core/interactiveshell.py:3585: UserWarning: To exit: use 'exit', 'quit', or Ctrl-D.\n",
            "  warn(\"To exit: use 'exit', 'quit', or Ctrl-D.\", stacklevel=1)\n"
          ]
        }
      ],
      "source": [
        "from flask import Flask, request, render_template, jsonify\n",
        "import pandas as pd\n",
        "from sklearn.preprocessing import OrdinalEncoder\n",
        "import pickle\n",
        "\n",
        "app = Flask(__name__)\n",
        "\n",
        "# Carga el encoder preentrenado\n",
        "with open('ordinal_encoder.pkl', 'rb') as f:\n",
        "    ordinal_encoder = pickle.load(f)\n",
        "\n",
        "# Carga los datos originales para la predicción (si es necesario)\n",
        "data = pd.read_csv('https://github.com/sergiomora03/AdvancedTopicsAnalytics/raw/main/datasets/dataTrain_carListings.zip')\n",
        "\n",
        "@app.route('/')\n",
        "def home():\n",
        "    # Renderiza un formulario HTML simple\n",
        "    return render_template('index.html')\n",
        "\n",
        "@app.route('/predict', methods=['POST'])\n",
        "def predict():\n",
        "    year = request.form.get('year')\n",
        "    mileage = request.form.get('mileage')\n",
        "    make = request.form.get('make')\n",
        "    state = request.form.get('state')\n",
        "    model = request.form.get('model')\n",
        "\n",
        "    # Prepara los datos para la predicción\n",
        "    Y_pred = pd.DataFrame([[year, mileage, make, state, model]], columns=['Year', 'Mileage', 'Make', 'State', 'Model'])\n",
        "\n",
        "    # Asegura que las columnas estén en el orden correcto\n",
        "    Y_pred = Y_pred[['State', 'Make', 'Model']]\n",
        "\n",
        "    # Aplica la codificación\n",
        "    Y_pred[['State', 'Make', 'Model']] = ordinal_encoder.transform(Y_pred[['State', 'Make', 'Model']])\n",
        "\n",
        "    # Aquí podrías aplicar un modelo de predicción (ej: RandomForest, etc.)\n",
        "    # Ejemplo de predicción ficticia\n",
        "    prediction =  model.predict(Y_encoded)\n",
        "\n",
        "\n",
        "    # Devuelve la predicción como respuesta JSON\n",
        "    return jsonify({'prediction': prediction})\n",
        "\n",
        "if __name__ == '__main__':\n",
        "    app.run(debug=True)\n"
      ]
    }
  ],
  "metadata": {
    "colab": {
      "provenance": []
    },
    "kernelspec": {
      "display_name": "Python 3",
      "language": "python",
      "name": "python3"
    },
    "language_info": {
      "codemirror_mode": {
        "name": "ipython",
        "version": 3
      },
      "file_extension": ".py",
      "mimetype": "text/x-python",
      "name": "python",
      "nbconvert_exporter": "python",
      "pygments_lexer": "ipython3",
      "version": "3.11.1"
    }
  },
  "nbformat": 4,
  "nbformat_minor": 0
}