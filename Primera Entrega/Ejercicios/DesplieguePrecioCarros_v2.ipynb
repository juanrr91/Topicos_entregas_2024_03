{
  "cells": [
    {
      "cell_type": "markdown",
      "metadata": {
        "colab_type": "text",
        "id": "view-in-github"
      },
      "source": [
        "<a href=\"https://colab.research.google.com/github/sergiomora03/AdvancedTopicsAnalytics/blob/main/exercises/E1-UsedVehiclePricePredictionDeployment.ipynb\" target=\"_parent\"><img src=\"https://colab.research.google.com/assets/colab-badge.svg\" alt=\"Open In Colab\"/></a>"
      ]
    },
    {
      "cell_type": "markdown",
      "metadata": {
        "id": "sxFxQIOfeK4F"
      },
      "source": [
        "\n",
        "# E1 - Model Deployment in Used Vehicle Price Prediction"
      ]
    },
    {
      "cell_type": "markdown",
      "metadata": {
        "id": "sJ9F7SjKeK4G"
      },
      "source": [
        "## Introduction\n",
        "\n",
        "- 1.2 Million listings scraped from TrueCar.com - Price, Mileage, Make, Model dataset from Kaggle: [data](https://www.kaggle.com/jpayne/852k-used-car-listings)\n",
        "- Each observation represents the price of an used car"
      ]
    },
    {
      "cell_type": "code",
      "execution_count": 29,
      "metadata": {
        "id": "xbFTQNlbeK4H"
      },
      "outputs": [],
      "source": [
        "%matplotlib inline\n",
        "import pandas as pd\n",
        "import ssl\n",
        "import numpy as np\n",
        "from sklearn.linear_model import LinearRegression\n",
        "from sklearn.metrics import mean_squared_error, mean_absolute_error\n",
        "from sklearn.preprocessing import OrdinalEncoder\n",
        "from sklearn.model_selection import train_test_split\n",
        "import joblib\n"
      ]
    },
    {
      "cell_type": "markdown",
      "metadata": {},
      "source": [
        "- Se genera la carga de los datos"
      ]
    },
    {
      "cell_type": "code",
      "execution_count": 30,
      "metadata": {
        "id": "G8n9pb2JeK4I"
      },
      "outputs": [],
      "source": [
        "ssl._create_default_https_context = ssl._create_unverified_context\n",
        "data = pd.read_csv('https://github.com/sergiomora03/AdvancedTopicsAnalytics/raw/main/datasets/dataTrain_carListings.zip')"
      ]
    },
    {
      "cell_type": "markdown",
      "metadata": {},
      "source": [
        "## Revision Datos"
      ]
    },
    {
      "cell_type": "markdown",
      "metadata": {},
      "source": [
        "- En las siguientes lineas se realiza la revisión de los datos, donde se comprueba si hay datos nulos, si hay datos duplicados y se realiza el ajuste, eliminando los datos que se encuentran duplicados\n",
        "- Se realiza la copia de la base en un data frame, para poder trabajar con este."
      ]
    },
    {
      "cell_type": "code",
      "execution_count": 31,
      "metadata": {},
      "outputs": [],
      "source": [
        "df = data.copy()\n"
      ]
    },
    {
      "cell_type": "code",
      "execution_count": 62,
      "metadata": {
        "colab": {
          "base_uri": "https://localhost:8080/",
          "height": 204
        },
        "id": "7DKvXgDmeK4J",
        "outputId": "3621f360-87c9-450d-d11f-72f098cf9f72"
      },
      "outputs": [
        {
          "data": {
            "text/html": [
              "<div>\n",
              "<style scoped>\n",
              "    .dataframe tbody tr th:only-of-type {\n",
              "        vertical-align: middle;\n",
              "    }\n",
              "\n",
              "    .dataframe tbody tr th {\n",
              "        vertical-align: top;\n",
              "    }\n",
              "\n",
              "    .dataframe thead th {\n",
              "        text-align: right;\n",
              "    }\n",
              "</style>\n",
              "<table border=\"1\" class=\"dataframe\">\n",
              "  <thead>\n",
              "    <tr style=\"text-align: right;\">\n",
              "      <th></th>\n",
              "      <th>Price</th>\n",
              "      <th>Year</th>\n",
              "      <th>Mileage</th>\n",
              "      <th>State</th>\n",
              "      <th>Make</th>\n",
              "      <th>Model</th>\n",
              "    </tr>\n",
              "  </thead>\n",
              "  <tbody>\n",
              "    <tr>\n",
              "      <th>0</th>\n",
              "      <td>21490</td>\n",
              "      <td>2014</td>\n",
              "      <td>31909</td>\n",
              "      <td>20</td>\n",
              "      <td>27</td>\n",
              "      <td>305</td>\n",
              "    </tr>\n",
              "    <tr>\n",
              "      <th>1</th>\n",
              "      <td>21250</td>\n",
              "      <td>2016</td>\n",
              "      <td>25741</td>\n",
              "      <td>17</td>\n",
              "      <td>6</td>\n",
              "      <td>83</td>\n",
              "    </tr>\n",
              "    <tr>\n",
              "      <th>2</th>\n",
              "      <td>20925</td>\n",
              "      <td>2016</td>\n",
              "      <td>24633</td>\n",
              "      <td>40</td>\n",
              "      <td>14</td>\n",
              "      <td>400</td>\n",
              "    </tr>\n",
              "    <tr>\n",
              "      <th>3</th>\n",
              "      <td>14500</td>\n",
              "      <td>2012</td>\n",
              "      <td>84026</td>\n",
              "      <td>36</td>\n",
              "      <td>17</td>\n",
              "      <td>248</td>\n",
              "    </tr>\n",
              "    <tr>\n",
              "      <th>4</th>\n",
              "      <td>32488</td>\n",
              "      <td>2013</td>\n",
              "      <td>22816</td>\n",
              "      <td>42</td>\n",
              "      <td>17</td>\n",
              "      <td>489</td>\n",
              "    </tr>\n",
              "  </tbody>\n",
              "</table>\n",
              "</div>"
            ],
            "text/plain": [
              "   Price  Year  Mileage  State  Make  Model\n",
              "0  21490  2014    31909     20    27    305\n",
              "1  21250  2016    25741     17     6     83\n",
              "2  20925  2016    24633     40    14    400\n",
              "3  14500  2012    84026     36    17    248\n",
              "4  32488  2013    22816     42    17    489"
            ]
          },
          "execution_count": 62,
          "metadata": {},
          "output_type": "execute_result"
        }
      ],
      "source": [
        "df.head()"
      ]
    },
    {
      "cell_type": "code",
      "execution_count": 6,
      "metadata": {
        "colab": {
          "base_uri": "https://localhost:8080/"
        },
        "id": "_aoPSO3KeK4J",
        "outputId": "fb63258d-0ea3-4c43-9e0b-e0846808df29"
      },
      "outputs": [
        {
          "data": {
            "text/plain": [
              "(500000, 6)"
            ]
          },
          "execution_count": 6,
          "metadata": {},
          "output_type": "execute_result"
        }
      ],
      "source": [
        "df.shape"
      ]
    },
    {
      "cell_type": "code",
      "execution_count": 7,
      "metadata": {},
      "outputs": [
        {
          "data": {
            "text/plain": [
              "Price      0\n",
              "Year       0\n",
              "Mileage    0\n",
              "State      0\n",
              "Make       0\n",
              "Model      0\n",
              "dtype: int64"
            ]
          },
          "execution_count": 7,
          "metadata": {},
          "output_type": "execute_result"
        }
      ],
      "source": [
        "##Check features with nan value\n",
        "df.isnull().sum()"
      ]
    },
    {
      "cell_type": "code",
      "execution_count": 8,
      "metadata": {},
      "outputs": [
        {
          "data": {
            "text/plain": [
              "np.int64(5)"
            ]
          },
          "execution_count": 8,
          "metadata": {},
          "output_type": "execute_result"
        }
      ],
      "source": [
        "df.Mileage.min()"
      ]
    },
    {
      "cell_type": "code",
      "execution_count": 9,
      "metadata": {},
      "outputs": [
        {
          "data": {
            "text/plain": [
              "np.int64(2457832)"
            ]
          },
          "execution_count": 9,
          "metadata": {},
          "output_type": "execute_result"
        }
      ],
      "source": [
        "df.Mileage.max()"
      ]
    },
    {
      "cell_type": "markdown",
      "metadata": {},
      "source": [
        "## Encoding"
      ]
    },
    {
      "cell_type": "markdown",
      "metadata": {},
      "source": [
        "- Se codifican las categorias para que sea mucho más fácil trabajar con estas, ya que al dumificar los valores se generan muchas columnas que hacen mucho más amplio, esto se probó y los resultados pueden ser relativamente mejores cuando se codifica."
      ]
    },
    {
      "cell_type": "code",
      "execution_count": 32,
      "metadata": {},
      "outputs": [],
      "source": [
        "ordinal_encoder = OrdinalEncoder()\n",
        "df[['State', 'Make', 'Model']] = ordinal_encoder.fit_transform(df[['State', 'Make', 'Model']])\n",
        "\n",
        "# Guardar el codificador ordinal\n",
        "joblib.dump(ordinal_encoder, 'ordinal_encoder.pkl')\n",
        "\n",
        "\n",
        "X = df[['Year', 'Mileage', 'State', 'Make', 'Model']]\n",
        "y = df['Price']\n"
      ]
    },
    {
      "cell_type": "markdown",
      "metadata": {},
      "source": [
        "- Se validaron los valores duplicados y se revisan cuales fueron, una vez codificados."
      ]
    },
    {
      "cell_type": "code",
      "execution_count": 7,
      "metadata": {},
      "outputs": [
        {
          "name": "stdout",
          "output_type": "stream",
          "text": [
            "        Price  Year  Mileage  State  Make  Model\n",
            "37781   24865  2018       10     44    10    233\n",
            "40335   16488  2017       15      9    35    123\n",
            "45362   35780  2017       10     44    10    438\n",
            "53757   15988  2017       15      9    35    123\n",
            "58577   16995  2017       15      9    35    123\n",
            "...       ...   ...      ...    ...   ...    ...\n",
            "490356  35882  2017        5      4    32    326\n",
            "493629  49410  2018       10     44    10    191\n",
            "496681  47999  2017       99     38     2    498\n",
            "498068  31995  2016       11      9    24    434\n",
            "498252  26285  2017        5     14    13     67\n",
            "\n",
            "[220 rows x 6 columns]\n"
          ]
        }
      ],
      "source": [
        "df.duplicated().sum()\n",
        "duplicados = df.duplicated()\n",
        "duplicados_valores = df[duplicados]\n",
        "print(duplicados_valores)"
      ]
    },
    {
      "cell_type": "markdown",
      "metadata": {},
      "source": [
        "- Se elimnaron los valores duplicados y posteriormente se revisa cómo queda la base en cantidad de datos."
      ]
    },
    {
      "cell_type": "code",
      "execution_count": 33,
      "metadata": {},
      "outputs": [],
      "source": [
        "df.drop_duplicates(inplace=True)"
      ]
    },
    {
      "cell_type": "code",
      "execution_count": 14,
      "metadata": {},
      "outputs": [
        {
          "data": {
            "text/plain": [
              "(499780, 6)"
            ]
          },
          "execution_count": 14,
          "metadata": {},
          "output_type": "execute_result"
        }
      ],
      "source": [
        "df.shape"
      ]
    },
    {
      "cell_type": "code",
      "execution_count": 15,
      "metadata": {},
      "outputs": [
        {
          "name": "stdout",
          "output_type": "stream",
          "text": [
            "<class 'pandas.core.frame.DataFrame'>\n",
            "Index: 499780 entries, 0 to 499999\n",
            "Data columns (total 6 columns):\n",
            " #   Column   Non-Null Count   Dtype  \n",
            "---  ------   --------------   -----  \n",
            " 0   Price    499780 non-null  int64  \n",
            " 1   Year     499780 non-null  int64  \n",
            " 2   Mileage  499780 non-null  int64  \n",
            " 3   State    499780 non-null  float64\n",
            " 4   Make     499780 non-null  float64\n",
            " 5   Model    499780 non-null  float64\n",
            "dtypes: float64(3), int64(3)\n",
            "memory usage: 26.7 MB\n"
          ]
        }
      ],
      "source": [
        "df.info()"
      ]
    },
    {
      "cell_type": "code",
      "execution_count": 17,
      "metadata": {
        "colab": {
          "base_uri": "https://localhost:8080/"
        },
        "id": "5DZ-QvJLeK4L",
        "outputId": "64940a18-c12e-43bf-f576-dcee13994da9"
      },
      "outputs": [
        {
          "data": {
            "text/plain": [
              "Index(['Price', 'Year', 'Mileage', 'State', 'Make', 'Model'], dtype='object')"
            ]
          },
          "execution_count": 17,
          "metadata": {},
          "output_type": "execute_result"
        }
      ],
      "source": [
        "df.columns"
      ]
    },
    {
      "cell_type": "code",
      "execution_count": 67,
      "metadata": {},
      "outputs": [
        {
          "data": {
            "text/plain": [
              "Price      53291\n",
              "Year        2016\n",
              "Mileage    22066\n",
              "State         43\n",
              "Make          12\n",
              "Model        416\n",
              "Name: 261451, dtype: int64"
            ]
          },
          "execution_count": 67,
          "metadata": {},
          "output_type": "execute_result"
        }
      ],
      "source": [
        "df.loc[261451]"
      ]
    },
    {
      "cell_type": "code",
      "execution_count": 14,
      "metadata": {},
      "outputs": [
        {
          "data": {
            "text/plain": [
              "Price\n",
              "14995    2868\n",
              "13995    2762\n",
              "9995     2695\n",
              "12995    2679\n",
              "15995    2541\n",
              "         ... \n",
              "31741       1\n",
              "58060       1\n",
              "7158        1\n",
              "26065       1\n",
              "63973       1\n",
              "Name: count, Length: 38222, dtype: int64"
            ]
          },
          "execution_count": 14,
          "metadata": {},
          "output_type": "execute_result"
        }
      ],
      "source": [
        "df['Price'].value_counts()\n"
      ]
    },
    {
      "cell_type": "markdown",
      "metadata": {},
      "source": [
        "## Entrenamiento"
      ]
    },
    {
      "cell_type": "markdown",
      "metadata": {},
      "source": [
        "- Se gera la división de la base en train y test en 80%, 20%"
      ]
    },
    {
      "cell_type": "code",
      "execution_count": 34,
      "metadata": {},
      "outputs": [],
      "source": [
        "X_train, X_test, y_train, y_test = train_test_split(X, y, test_size=0.2, random_state=42)\n",
        "\n",
        "     "
      ]
    },
    {
      "cell_type": "markdown",
      "metadata": {},
      "source": [
        "- Nota: Esta linea podría ser ajustada posteriormente, pero dado que se hicieron diferentes pruebas de modelo y codificación, se dejó en el momento, por practicidad,"
      ]
    },
    {
      "cell_type": "code",
      "execution_count": 35,
      "metadata": {},
      "outputs": [],
      "source": [
        "X_train_encoded = X_train.copy()\n",
        "\n",
        "X_test_encoded = X_test.copy()\n"
      ]
    },
    {
      "cell_type": "markdown",
      "metadata": {
        "id": "7iz8pi7CeK4M"
      },
      "source": [
        "# Exercise P0.1 (50%)\n",
        "\n",
        "Develop a machine learning model that predicts the price of the of car using as an input ['Year', 'Mileage', 'State', 'Make', 'Model']\n",
        "\n",
        "#### Evaluation:\n",
        "- 25% - Performance of the models using a manually implemented K-Fold (K=10) cross-validation\n",
        "- 25% - Notebook explaining the process for selecting the best model. You must specify how the calibration of each of the parameters is done and how these change the performance of the model. It is expected that a clear comparison will be made of all implemented models.. Present the most relevant conslusions about the whole process.\n"
      ]
    },
    {
      "cell_type": "markdown",
      "metadata": {},
      "source": [
        "## Implementación de modelos\n",
        "Para los modelos se realizaron 3 modelos diferentes, Regresion Lineal, Random Forest Y XGBoost"
      ]
    },
    {
      "cell_type": "markdown",
      "metadata": {},
      "source": [
        "## modelo Regresion Linear"
      ]
    },
    {
      "cell_type": "markdown",
      "metadata": {},
      "source": [
        "La regresion lineal se ejecuta con 10 Folds, haciendo la particion 10 veces de los datos, para poder realizar la prediccion de estos"
      ]
    },
    {
      "cell_type": "code",
      "execution_count": 36,
      "metadata": {},
      "outputs": [
        {
          "name": "stdout",
          "output_type": "stream",
          "text": [
            "Average Root Mean Squared Error (RMSE): 8926.45783878061\n",
            "Average Mean Absolute Error (MAE): 6844.976931049464\n"
          ]
        }
      ],
      "source": [
        "# Definir el número de folds\n",
        "k = 10\n",
        "\n",
        "# Crear una lista para almacenar los resultados de evaluación\n",
        "rmse_list = []\n",
        "mae_list = []\n",
        "\n",
        "# Obtener los índices de los datos\n",
        "indices = np.arange(len(X_train_encoded))\n",
        "\n",
        "# Mezclar los índices aleatoriamente\n",
        "np.random.shuffle(indices)\n",
        "\n",
        "# Dividir los datos en K folds\n",
        "fold_size = len(X_train_encoded) // k\n",
        "folds = [indices[i:i+fold_size] for i in range(0, len(X_train_encoded), fold_size)]\n",
        "\n",
        "\n",
        "model = LinearRegression()\n",
        "\n",
        "# Realizar el K-Fold Cross Validation\n",
        "for i in range(k):\n",
        "    # Obtener los índices de entrenamiento y prueba para el fold actual\n",
        "    test_indices = folds[i]\n",
        "    train_indices = np.concatenate(folds[:i] + folds[i+1:])\n",
        "\n",
        "    X_train_fold, X_test_fold = X_train_encoded.iloc[train_indices], X_train_encoded.iloc[test_indices]\n",
        "    y_train_fold, y_test_fold = y_train.iloc[train_indices], y_train.iloc[test_indices]\n",
        "\n",
        "    # Entrenar el modelo\n",
        "    model.fit(X_train_fold, y_train_fold)\n",
        "\n",
        "    # Predecir\n",
        "    y_pred_fold = model.predict(X_test_fold)\n",
        "\n",
        "    # Calcular métricas\n",
        "    rmse_fold = np.sqrt(mean_squared_error(y_test_fold, y_pred_fold))\n",
        "    mae_fold = mean_absolute_error(y_test_fold, y_pred_fold)\n",
        "    \n",
        "    # Almacenar métricas\n",
        "    rmse_list.append(rmse_fold)\n",
        "    mae_list.append(mae_fold)\n",
        "\n",
        "# Calcular métricas promedio\n",
        "mean_rmse = np.mean(rmse_list)\n",
        "mean_mae = np.mean(mae_list)\n",
        "\n",
        "\n",
        "\n",
        "print(f'Average Root Mean Squared Error (RMSE): {mean_rmse}')\n",
        "print(f'Average Mean Absolute Error (MAE): {mean_mae}')"
      ]
    },
    {
      "cell_type": "markdown",
      "metadata": {},
      "source": [
        "## Modelo RF"
      ]
    },
    {
      "cell_type": "markdown",
      "metadata": {},
      "source": [
        "Se aplica la misma estructura que en la regresion lineal, pero esta vez para el modelo de Random Forest.  Se tiene en cuenta los parameteos de número de estimadores, profundidad, random state y jobs."
      ]
    },
    {
      "cell_type": "code",
      "execution_count": 37,
      "metadata": {},
      "outputs": [
        {
          "name": "stdout",
          "output_type": "stream",
          "text": [
            "Average Root Mean Squared Error (RMSE): 4681.130284507001\n",
            "Average Mean Absolute Error (MAE): 3217.069183769096\n"
          ]
        }
      ],
      "source": [
        "from sklearn.ensemble import RandomForestRegressor\n",
        "from sklearn.metrics import mean_squared_error, mean_absolute_error\n",
        "from sklearn.model_selection import KFold\n",
        "import numpy as np\n",
        "\n",
        "# Inicializar el modelo\n",
        "model_rf = RandomForestRegressor(n_estimators=50, max_depth=10, random_state=42, n_jobs=-1)\n",
        "\n",
        "# Definir el número de folds\n",
        "k = 10\n",
        "\n",
        "# Crear una lista para almacenar los resultados de evaluación\n",
        "rmse_list = []\n",
        "mae_list = []\n",
        "\n",
        "# Obtener los índices de los datos\n",
        "indices = np.arange(len(X_train_encoded))\n",
        "\n",
        "# Mezclar los índices aleatoriamente\n",
        "np.random.shuffle(indices)\n",
        "\n",
        "# Dividir los datos en K folds\n",
        "fold_size = len(X_train_encoded) // k\n",
        "folds = [indices[i:i+fold_size] for i in range(0, len(X_train_encoded), fold_size)]\n",
        "\n",
        "# Listas para almacenar las métricas de cada pliegue\n",
        "rmse_list = []\n",
        "mae_list = []\n",
        "\n",
        "# Realizar K-Fold Cross-Validation\n",
        "for i in range(k):\n",
        "    # Obtener los índices de entrenamiento y prueba para el fold actual\n",
        "    test_index = folds[i]\n",
        "    train_index = np.concatenate(folds[:i] + folds[i+1:])\n",
        "    X_train_fold, X_test_fold = X_train_encoded.iloc[train_index], X_train_encoded.iloc[test_index]\n",
        "    y_train_fold, y_test_fold = y_train.iloc[train_index], y_train.iloc[test_index]\n",
        "    \n",
        "    # Entrenar el modelo\n",
        "    model_rf.fit(X_train_fold, y_train_fold)\n",
        "    \n",
        "    # Predecir\n",
        "    y_pred_fold = model_rf.predict(X_test_fold)\n",
        "    \n",
        "    # Calcular métricas\n",
        "    rmse_fold = np.sqrt(mean_squared_error(y_test_fold, y_pred_fold))\n",
        "    mae_fold = mean_absolute_error(y_test_fold, y_pred_fold)\n",
        "    \n",
        "    # Almacenar métricas\n",
        "    rmse_list.append(rmse_fold)\n",
        "    mae_list.append(mae_fold)\n",
        "\n",
        "# Calcular métricas promedio\n",
        "mean_rmse = np.mean(rmse_list)\n",
        "mean_mae = np.mean(mae_list)\n",
        "\n",
        "print(f'Average Root Mean Squared Error (RMSE): {mean_rmse}')\n",
        "print(f'Average Mean Absolute Error (MAE): {mean_mae}')"
      ]
    },
    {
      "cell_type": "markdown",
      "metadata": {},
      "source": [
        "## Modelo XGboost"
      ]
    },
    {
      "cell_type": "markdown",
      "metadata": {},
      "source": [
        "- Se genera el mismo ejercicio que los modelos anteriores, en el caso del XGBoost, se tiene en cuenta los parameteos de número de estimadores, profundidad, random state y jobs."
      ]
    },
    {
      "cell_type": "code",
      "execution_count": null,
      "metadata": {},
      "outputs": [],
      "source": [
        "# Inicializar el modelo XGBoost\n",
        "model_xgb = XGBRegressor(n_estimators=50, max_depth=10, random_state=42, n_jobs=-1)\n",
        "\n",
        "# Definir el número de folds\n",
        "k = 10\n",
        "\n",
        "# Crear una lista para almacenar los resultados de evaluación\n",
        "rmse_list = []\n",
        "mae_list = []\n",
        "\n",
        "# Obtener los índices de los datos\n",
        "indices = np.arange(len(X_train_encoded))\n",
        "\n",
        "# Mezclar los índices aleatoriamente\n",
        "np.random.shuffle(indices)\n",
        "\n",
        "# Dividir los datos en K folds\n",
        "fold_size = len(X_train_encoded) // k\n",
        "folds = [indices[i:i+fold_size] for i in range(0, len(X_train_encoded), fold_size)]\n",
        "\n",
        "# Listas para almacenar las métricas de cada pliegue\n",
        "rmse_list = []\n",
        "mae_list = []\n",
        "\n",
        "# Realizar K-Fold Cross-Validation\n",
        "for i in range(k):\n",
        "    # Obtener los índices de entrenamiento y prueba para el fold actual\n",
        "    test_index = folds[i]\n",
        "    train_index = np.concatenate(folds[:i] + folds[i+1:])\n",
        "    \n",
        "    X_train_fold, X_test_fold = X_train_encoded.iloc[train_index], X_train_encoded.iloc[test_index]\n",
        "    y_train_fold, y_test_fold = y_train.iloc[train_index], y_train.iloc[test_index]\n",
        "    \n",
        "    # Entrenar el modelo\n",
        "    model_xgb.fit(X_train_fold, y_train_fold)\n",
        "    \n",
        "    # Predecir\n",
        "    y_pred_fold = model_xgb.predict(X_test_fold)\n",
        "    \n",
        "    # Calcular métricas\n",
        "    rmse_fold = np.sqrt(mean_squared_error(y_test_fold, y_pred_fold))\n",
        "    mae_fold = mean_absolute_error(y_test_fold, y_pred_fold)\n",
        "    \n",
        "    # Almacenar métricas\n",
        "    rmse_list.append(rmse_fold)\n",
        "    mae_list.append(mae_fold)\n",
        "\n",
        "# Calcular métricas promedio\n",
        "mean_rmse = np.mean(rmse_list)\n",
        "mean_mae = np.mean(mae_list)\n",
        "\n",
        "print(f'Average Root Mean Squared Error (RMSE): {mean_rmse}')\n",
        "print(f'Average Mean Absolute Error (MAE): {mean_mae}')"
      ]
    },
    {
      "cell_type": "markdown",
      "metadata": {},
      "source": [
        "El modelo que se escoge trabajar es el modelo del XGboost, dado que trae mejores resultados en comparación con los otros dos modelos, con un menor RMSE, que en este caso da cercano a los 4K. Que para efectos del modelo aunque es alto, puede ser un mejor valor que tener gastos superiores a 5K."
      ]
    },
    {
      "cell_type": "markdown",
      "metadata": {},
      "source": [
        "## almacenamiento modelos"
      ]
    },
    {
      "cell_type": "markdown",
      "metadata": {},
      "source": [
        "- por medio de la librería de joblib se guardan los modelos en un archivo.pkl"
      ]
    },
    {
      "cell_type": "code",
      "execution_count": 38,
      "metadata": {},
      "outputs": [
        {
          "data": {
            "text/plain": [
              "['model.pkl']"
            ]
          },
          "execution_count": 38,
          "metadata": {},
          "output_type": "execute_result"
        }
      ],
      "source": [
        "joblib.dump(model, 'model.pkl')  "
      ]
    },
    {
      "cell_type": "code",
      "execution_count": 39,
      "metadata": {},
      "outputs": [
        {
          "data": {
            "text/plain": [
              "['model_rf.pkl']"
            ]
          },
          "execution_count": 39,
          "metadata": {},
          "output_type": "execute_result"
        }
      ],
      "source": [
        "joblib.dump(model_rf, 'model_rf.pkl')"
      ]
    },
    {
      "cell_type": "code",
      "execution_count": null,
      "metadata": {},
      "outputs": [],
      "source": [
        "joblib.dump(model_rf, 'model_xgb.pkl')"
      ]
    },
    {
      "cell_type": "code",
      "execution_count": 19,
      "metadata": {},
      "outputs": [],
      "source": [
        "predict = model.predict(X_test_encoded)"
      ]
    },
    {
      "cell_type": "code",
      "execution_count": 20,
      "metadata": {},
      "outputs": [
        {
          "data": {
            "text/plain": [
              "array([27816.23136759, 25134.15756744, 26107.44928197, ...,\n",
              "       21841.16998523,  6859.95420534, 28044.29995154])"
            ]
          },
          "execution_count": 20,
          "metadata": {},
          "output_type": "execute_result"
        }
      ],
      "source": [
        "predict"
      ]
    },
    {
      "cell_type": "code",
      "execution_count": 21,
      "metadata": {},
      "outputs": [
        {
          "data": {
            "text/html": [
              "<div>\n",
              "<style scoped>\n",
              "    .dataframe tbody tr th:only-of-type {\n",
              "        vertical-align: middle;\n",
              "    }\n",
              "\n",
              "    .dataframe tbody tr th {\n",
              "        vertical-align: top;\n",
              "    }\n",
              "\n",
              "    .dataframe thead th {\n",
              "        text-align: right;\n",
              "    }\n",
              "</style>\n",
              "<table border=\"1\" class=\"dataframe\">\n",
              "  <thead>\n",
              "    <tr style=\"text-align: right;\">\n",
              "      <th></th>\n",
              "      <th>Year</th>\n",
              "      <th>Mileage</th>\n",
              "      <th>State</th>\n",
              "      <th>Make</th>\n",
              "      <th>Model</th>\n",
              "    </tr>\n",
              "  </thead>\n",
              "  <tbody>\n",
              "    <tr>\n",
              "      <th>269056</th>\n",
              "      <td>2014</td>\n",
              "      <td>13413</td>\n",
              "      <td>8</td>\n",
              "      <td>35</td>\n",
              "      <td>90</td>\n",
              "    </tr>\n",
              "  </tbody>\n",
              "</table>\n",
              "</div>"
            ],
            "text/plain": [
              "        Year  Mileage  State  Make  Model\n",
              "269056  2014    13413      8    35     90"
            ]
          },
          "execution_count": 21,
          "metadata": {},
          "output_type": "execute_result"
        }
      ],
      "source": [
        "X_train_encoded.head(1)"
      ]
    },
    {
      "cell_type": "code",
      "execution_count": 22,
      "metadata": {},
      "outputs": [],
      "source": [
        "input_data = pd.DataFrame([[2023, 30000, 25, 1, 104]], columns=['Year', 'Mileage', 'State', 'Make', 'Model'])"
      ]
    },
    {
      "cell_type": "code",
      "execution_count": 23,
      "metadata": {},
      "outputs": [
        {
          "data": {
            "text/plain": [
              "array([31582.399151])"
            ]
          },
          "execution_count": 23,
          "metadata": {},
          "output_type": "execute_result"
        }
      ],
      "source": [
        "model.predict(input_data)"
      ]
    },
    {
      "cell_type": "code",
      "execution_count": null,
      "metadata": {},
      "outputs": [],
      "source": [
        "import pickle as pk"
      ]
    },
    {
      "cell_type": "code",
      "execution_count": null,
      "metadata": {},
      "outputs": [],
      "source": [
        "pk.dump(model,open('model.pkl','wb'))"
      ]
    },
    {
      "cell_type": "markdown",
      "metadata": {
        "id": "Ftau7hH-eK4N"
      },
      "source": [
        "# Exercise P0.2 (50%)\n",
        "\n",
        "Create an API of the model.\n",
        "\n",
        "Example:\n",
        "![](https://github.com/sergiomora03/AdvancedTopicsAnalytics/blob/main/notebooks/img/img015.PNG?raw=true)\n",
        "\n",
        "#### Evaluation:\n",
        "- 40% - API hosted on a cloud service\n",
        "- 10% - Show screenshots of the model doing the predictions on the local machine\n"
      ]
    },
    {
      "cell_type": "markdown",
      "metadata": {},
      "source": [
        "### API"
      ]
    },
    {
      "cell_type": "code",
      "execution_count": null,
      "metadata": {},
      "outputs": [],
      "source": [
        "from flask import Flask\n",
        "from flask_restx import Api, Resource, fields\n",
        "import joblib"
      ]
    },
    {
      "cell_type": "code",
      "execution_count": null,
      "metadata": {},
      "outputs": [],
      "source": [
        "app = Flask(__name__)\n",
        "\n",
        "api = Api(\n",
        "    app,\n",
        "    version='1.0',\n",
        "    title='Car Price Prediction API',\n",
        "    description='Car Price Prediction API')\n",
        "\n",
        "ns = api.namespace('predict',\n",
        "     description='Price Prediction')\n",
        "\n",
        "parser = api.parser()\n",
        "\n",
        "parser.add_argument(\n",
        "    'URL',\n",
        "    type=str,\n",
        "    required=True,\n",
        "    help='URL to be analyzed',\n",
        "    location='args')\n",
        "\n",
        "resource_fields = api.model('Resource', {\n",
        "    'result': fields.String,\n",
        "})"
      ]
    },
    {
      "cell_type": "code",
      "execution_count": 61,
      "metadata": {},
      "outputs": [
        {
          "name": "stdout",
          "output_type": "stream",
          "text": [
            " * Serving Flask app '__main__'\n",
            " * Debug mode: on\n"
          ]
        },
        {
          "name": "stderr",
          "output_type": "stream",
          "text": [
            "\u001b[31m\u001b[1mWARNING: This is a development server. Do not use it in a production deployment. Use a production WSGI server instead.\u001b[0m\n",
            " * Running on http://127.0.0.1:5000\n",
            "\u001b[33mPress CTRL+C to quit\u001b[0m\n",
            " * Restarting with watchdog (fsevents)\n",
            "Traceback (most recent call last):\n",
            "  File \"<frozen runpy>\", line 198, in _run_module_as_main\n",
            "  File \"<frozen runpy>\", line 88, in _run_code\n",
            "  File \"/Users/juanpablo.cuellar/Library/Python/3.11/lib/python/site-packages/ipykernel_launcher.py\", line 18, in <module>\n",
            "    app.launch_new_instance()\n",
            "  File \"/Users/juanpablo.cuellar/Library/Python/3.11/lib/python/site-packages/traitlets/config/application.py\", line 1074, in launch_instance\n",
            "    app.initialize(argv)\n",
            "  File \"/Users/juanpablo.cuellar/Library/Python/3.11/lib/python/site-packages/traitlets/config/application.py\", line 118, in inner\n",
            "    return method(app, *args, **kwargs)\n",
            "           ^^^^^^^^^^^^^^^^^^^^^^^^^^^^\n",
            "  File \"/Users/juanpablo.cuellar/Library/Python/3.11/lib/python/site-packages/ipykernel/kernelapp.py\", line 692, in initialize\n",
            "    self.init_sockets()\n",
            "  File \"/Users/juanpablo.cuellar/Library/Python/3.11/lib/python/site-packages/ipykernel/kernelapp.py\", line 331, in init_sockets\n",
            "    self.shell_port = self._bind_socket(self.shell_socket, self.shell_port)\n",
            "                      ^^^^^^^^^^^^^^^^^^^^^^^^^^^^^^^^^^^^^^^^^^^^^^^^^^^^^\n",
            "  File \"/Users/juanpablo.cuellar/Library/Python/3.11/lib/python/site-packages/ipykernel/kernelapp.py\", line 253, in _bind_socket\n",
            "    return self._try_bind_socket(s, port)\n",
            "           ^^^^^^^^^^^^^^^^^^^^^^^^^^^^^^\n",
            "  File \"/Users/juanpablo.cuellar/Library/Python/3.11/lib/python/site-packages/ipykernel/kernelapp.py\", line 229, in _try_bind_socket\n",
            "    s.bind(\"tcp://%s:%i\" % (self.ip, port))\n",
            "  File \"/Users/juanpablo.cuellar/Library/Python/3.11/lib/python/site-packages/zmq/sugar/socket.py\", line 311, in bind\n",
            "    super().bind(addr)\n",
            "  File \"_zmq.py\", line 898, in zmq.backend.cython._zmq.Socket.bind\n",
            "  File \"_zmq.py\", line 160, in zmq.backend.cython._zmq._check_rc\n",
            "zmq.error.ZMQError: Address already in use (addr='tcp://127.0.0.1:9066')\n"
          ]
        },
        {
          "ename": "SystemExit",
          "evalue": "1",
          "output_type": "error",
          "traceback": [
            "An exception has occurred, use %tb to see the full traceback.\n",
            "\u001b[0;31mSystemExit\u001b[0m\u001b[0;31m:\u001b[0m 1\n"
          ]
        },
        {
          "name": "stderr",
          "output_type": "stream",
          "text": [
            "/Users/juanpablo.cuellar/Library/Python/3.11/lib/python/site-packages/IPython/core/interactiveshell.py:3585: UserWarning: To exit: use 'exit', 'quit', or Ctrl-D.\n",
            "  warn(\"To exit: use 'exit', 'quit', or Ctrl-D.\", stacklevel=1)\n"
          ]
        }
      ],
      "source": [
        "from flask import Flask, request\n",
        "from flask_restx import Api, Resource, fields\n",
        "import joblib\n",
        "\n",
        "# Load the trained models\n",
        "model = joblib.load('despliegue/model.pkl')\n",
        "model_rf = joblib.load('despliegue/model_rf.pkl')\n",
        "\n",
        "# Create the Flask app\n",
        "app = Flask(__name__)\n",
        "api = Api(app, version='1.0', title='Car Price Prediction API', description='API for predicting car prices')\n",
        "\n",
        "# Define the input and output fields\n",
        "precio_carro = api.model('PrecioCarro', {\n",
        "    'Year': fields.Integer(required=True, description='Year of the car'),\n",
        "    'Mileage': fields.Integer(required=True, description='Mileage of the car'),\n",
        "    'State': fields.String(required=True, description='State of the car'),\n",
        "    'Make': fields.String(required=True, description='Make of the car'),\n",
        "    'Model': fields.String(required=True, description='Model of the car')\n",
        "})\n",
        "\n",
        "prediction = api.model('Prediction', {\n",
        "    'Price': fields.Float(description='Predicted price of the car')\n",
        "})\n",
        "\n",
        "# Define the API endpoint\n",
        "@api.route('/predict')\n",
        "class PredictCarPrice(Resource):\n",
        "    @api.expect(precio_carro, validate=True)\n",
        "    @api.response(200, 'Success', prediction)\n",
        "    def post(self):\n",
        "        # Get the input data from the request\n",
        "        data = request.json\n",
        "\n",
        "        # Preprocess the input data\n",
        "        year = data['Year']\n",
        "        mileage = data['Mileage']\n",
        "        state = data['State']\n",
        "        make = data['Make']\n",
        "        model = data['Model']\n",
        "\n",
        "        # Make the prediction using the linear regression model\n",
        "        price_lr = model.predict([[year, mileage, state, make, model]])\n",
        "\n",
        "        # Make the prediction using the random forest model\n",
        "        price_rf = model_rf.predict([[year, mileage, state, make, model]])\n",
        "\n",
        "        # Return the predictions as a response\n",
        "        return {'Price_LR': price_lr[0], 'Price_RF': price_rf[0]}\n",
        "\n",
        "# Run the Flask app\n",
        "if __name__ == '__main__':\n",
        "    app.run(debug=True)"
      ]
    },
    {
      "cell_type": "code",
      "execution_count": null,
      "metadata": {},
      "outputs": [],
      "source": [
        "\n",
        "# Create the Flask app\n",
        "app = Flask(__name__)\n",
        "api = Api(app, version='1.0', title='Car Price Prediction API', description='API for predicting car prices')\n",
        "\n",
        "# Define the input and output fields\n",
        "precio_carro = api.model('PrecioCarro', {\n",
        "    'Year': fields.Integer(required=True, description='Year of the car'),\n",
        "    'Mileage': fields.Integer(required=True, description='Mileage of the car'),\n",
        "    'State': fields.String(required=True, description='State of the car'),\n",
        "    'Make': fields.String(required=True, description='Make of the car'),\n",
        "    'Model': fields.String(required=True, description='Model of the car')\n",
        "})\n",
        "\n",
        "prediction = api.model('Prediction', {\n",
        "    'Price': fields.Float(description='Predicted price of the car')\n",
        "})\n",
        "\n",
        "# Define the API endpoint\n",
        "@api.route('/predict')\n",
        "class PredictCarPrice(Resource):\n",
        "    @api.expect(precio_carro, validate=True)\n",
        "    @api.response(200, 'Success', prediction)\n",
        "    def post(self):\n",
        "        # Get the input data from the request\n",
        "        data = request.json\n",
        "\n",
        "        # Preprocess the input data\n",
        "        year = data['Year']\n",
        "        mileage = data['Mileage']\n",
        "        state = data['State']\n",
        "        make = data['Make']\n",
        "        model = data['Model']\n",
        "\n",
        "        # Make the prediction\n",
        "        price = model.predict([[year, mileage, state, make, model]])\n",
        "\n",
        "        # Return the prediction as a response\n",
        "        return {'Price': price[0]}\n",
        "\n",
        "# Run the Flask app\n",
        "if __name__ == '__main__':\n",
        "    app.run(debug=True)"
      ]
    },
    {
      "cell_type": "code",
      "execution_count": null,
      "metadata": {},
      "outputs": [],
      "source": [
        "from flask import Flask, request, render_template\n",
        "from flask_restx import Api, Resource, fields\n",
        "import joblib\n",
        "import streamlit as st"
      ]
    },
    {
      "cell_type": "code",
      "execution_count": null,
      "metadata": {},
      "outputs": [
        {
          "name": "stderr",
          "output_type": "stream",
          "text": [
            "2024-09-06 22:55:35.714 Thread 'MainThread': missing ScriptRunContext! This warning can be ignored when running in bare mode.\n",
            "2024-09-06 22:55:35.716 Thread 'MainThread': missing ScriptRunContext! This warning can be ignored when running in bare mode.\n",
            "2024-09-06 22:55:35.717 Thread 'MainThread': missing ScriptRunContext! This warning can be ignored when running in bare mode.\n",
            "2024-09-06 22:55:35.718 Thread 'MainThread': missing ScriptRunContext! This warning can be ignored when running in bare mode.\n",
            "2024-09-06 22:55:35.718 Thread 'MainThread': missing ScriptRunContext! This warning can be ignored when running in bare mode.\n"
          ]
        }
      ],
      "source": [
        "app = Flask(__name__)\n",
        "\n",
        "api = Api(\n",
        "    app,\n",
        "    version='1.0',\n",
        "    title='Car Price Prediction API',\n",
        "    description='Car Price Prediction API')\n",
        "\n",
        "ns = api.namespace('predict',\n",
        "     description='Price Prediction')\n",
        "\n",
        "parser = api.parser()\n",
        "\n",
        "parser.add_argument('Year', st.slider('Select a car Year', 1990, 2024), help='Select a car Year')\n",
        "parser.add_argument('Mileage', type=int, help='Select a car Mileage')\n",
        "parser.add_argument('State', type=str, help='Select a car State')\n",
        "parser.add_argument('Make', type=str, help='Select a car Make')\n",
        "parser.add_argument('Model', type=str, help='Select a car Model')\n",
        "\n",
        "\n",
        "    \n",
        "\n",
        "resource_fields = api.model('Resource', {\n",
        "    'result': fields.String,\n",
        "})"
      ]
    },
    {
      "cell_type": "code",
      "execution_count": null,
      "metadata": {},
      "outputs": [
        {
          "name": "stdout",
          "output_type": "stream",
          "text": [
            "\u001b[0m\n",
            "\u001b[34m\u001b[1m  You can now view your Streamlit app in your browser.\u001b[0m\n",
            "\u001b[0m\n",
            "\u001b[34m  Local URL: \u001b[0m\u001b[1mhttp://localhost:8503\u001b[0m\n",
            "\u001b[34m  Network URL: \u001b[0m\u001b[1mhttp://192.168.0.7:8503\u001b[0m\n",
            "\u001b[0m\n",
            "2024-09-06 22:59:10.087 Uncaught app exception\n",
            "Traceback (most recent call last):\n",
            "  File \"/Users/juanpablo.cuellar/Library/Python/3.11/lib/python/site-packages/streamlit/runtime/scriptrunner/exec_code.py\", line 88, in exec_func_with_error_handling\n",
            "    result = func()\n",
            "             ^^^^^^\n",
            "  File \"/Users/juanpablo.cuellar/Library/Python/3.11/lib/python/site-packages/streamlit/runtime/scriptrunner/script_runner.py\", line 590, in code_to_exec\n",
            "    exec(code, module.__dict__)\n",
            "  File \"/Users/juanpablo.cuellar/Library/CloudStorage/OneDrive-Ogilvy/Documents/Uni/app2.py\", line 8, in <module>\n",
            "    model = joblib.load('model_xgb.pkl')\n",
            "            ^^^^^^^^^^^^^^^^^^^^^^^^^^^^\n",
            "  File \"/Users/juanpablo.cuellar/Library/Python/3.11/lib/python/site-packages/joblib/numpy_pickle.py\", line 650, in load\n",
            "    with open(filename, 'rb') as f:\n",
            "         ^^^^^^^^^^^^^^^^^^^^\n",
            "FileNotFoundError: [Errno 2] No such file or directory: 'model_xgb.pkl'\n",
            "^C\n",
            "\u001b[34m  Stopping...\u001b[0m\n"
          ]
        }
      ],
      "source": [
        "!streamlit run app2.py\n"
      ]
    },
    {
      "cell_type": "code",
      "execution_count": null,
      "metadata": {},
      "outputs": [],
      "source": [
        "@ns.route('/')\n",
        "class PrediccionAPI(Resource):\n",
        "\n",
        "    @api.doc(parser=parser)\n",
        "    @api.marshal_with(resource_fields)\n",
        "    def get(self):\n",
        "        args = parser.parse_args()\n",
        "\n",
        "        Year = st.slider('Select a car Year', 1990, 2024)\n",
        "        Mileage = st.slider('Select a car Mileage', 0, 300000)\n",
        "        State = st.selectbox('Select a car State', df['State'].unique())\n",
        "        Make = st.selectbox('Select a car Make', df['Make'].unique())\n",
        "        Model = st.selectbox('Select a car Model', df['Model'].unique())\n",
        "                \n",
        "        print(year, mileage, state, make, model)\n",
        "\n",
        "        return {\n",
        "         \"result\": predict(year, mileage, state, make, model)\n",
        "        }, 200\n",
        "\n",
        "    "
      ]
    },
    {
      "cell_type": "code",
      "execution_count": null,
      "metadata": {},
      "outputs": [
        {
          "name": "stdout",
          "output_type": "stream",
          "text": [
            " * Serving Flask app '__main__'\n",
            " * Debug mode: on\n"
          ]
        },
        {
          "name": "stderr",
          "output_type": "stream",
          "text": [
            "\u001b[31m\u001b[1mWARNING: This is a development server. Do not use it in a production deployment. Use a production WSGI server instead.\u001b[0m\n",
            " * Running on all addresses (0.0.0.0)\n",
            " * Running on http://127.0.0.1:7000\n",
            " * Running on http://192.168.0.7:7000\n",
            "\u001b[33mPress CTRL+C to quit\u001b[0m\n",
            "127.0.0.1 - - [06/Sep/2024 22:57:30] \"GET / HTTP/1.1\" 200 -\n",
            "127.0.0.1 - - [06/Sep/2024 22:57:30] \"GET /swaggerui/droid-sans.css HTTP/1.1\" 200 -\n",
            "127.0.0.1 - - [06/Sep/2024 22:57:30] \"GET /swaggerui/swagger-ui.css HTTP/1.1\" 200 -\n",
            "127.0.0.1 - - [06/Sep/2024 22:57:30] \"GET /swaggerui/swagger-ui-bundle.js HTTP/1.1\" 200 -\n",
            "127.0.0.1 - - [06/Sep/2024 22:57:30] \"GET /swaggerui/swagger-ui-standalone-preset.js HTTP/1.1\" 200 -\n",
            "127.0.0.1 - - [06/Sep/2024 22:57:31] \"GET /swagger.json HTTP/1.1\" 200 -\n",
            "127.0.0.1 - - [06/Sep/2024 22:57:31] \"GET /swaggerui/favicon-32x32.png HTTP/1.1\" 200 -\n"
          ]
        }
      ],
      "source": [
        "app.run(debug=True, use_reloader=False, host='0.0.0.0', port=7000)"
      ]
    },
    {
      "cell_type": "code",
      "execution_count": null,
      "metadata": {},
      "outputs": [],
      "source": [
        "import streamlit as st\n",
        "from flask_restx import Resource, Namespace, fields\n",
        "\n",
        "ns = Namespace('prediccion', description='Predicción de precios de carros')\n",
        "parser = ns.parser()\n",
        "resource_fields = ns.model('Resource', {\n",
        "    'result': fields.String,\n",
        "})\n",
        "\n",
        "\n",
        "\n",
        "@ns.route('/')\n",
        "class PrediccionAPI(Resource):\n",
        "\n",
        "    @api.doc(parser=parser)\n",
        "    @api.marshal_with(resource_fields)\n",
        "    def get(self):\n",
        "       \n",
        "\n",
        "        # Widgets de Streamlit para seleccionar los parámetros\n",
        "        Year = st.slider('Select a car Year', 1990, 2024)\n",
        "        Mileage = st.slider('Select a car Mileage', 0, 300000)\n",
        "        State = st.selectbox('Select a car State', df['State'].unique())\n",
        "        Make = st.selectbox('Select a car Make', df['Make'].unique())\n",
        "        Model = st.selectbox('Select a car Model', df['Model'].unique())\n",
        "\n",
        "        st.write(f'Year: {Year}, Mileage: {Mileage}, State: {State}, Make: {Make}, Model: {Model}')                \n",
        "        # Imprimir los valores seleccionados\n",
        "        #print(Year, Mileage, State, Make, Model)\n",
        "\n",
        "        # Devolver el resultado de la predicción\n",
        "        return {\n",
        "            \"result\": predict(Year, Mileage, State, Make, Model)\n",
        "        }, 200"
      ]
    },
    {
      "cell_type": "code",
      "execution_count": null,
      "metadata": {},
      "outputs": [],
      "source": [
        "@ns.route('/')\n",
        "def index():\n",
        "\n",
        "    brand = sorted(df['Make'].unique())\n",
        "    model = sorted(df['Model'].unique())\n",
        "    year = sorted(df['Year'].unique(), reverse=True)\n",
        "    state = sorted(df['State'].unique())\n",
        "    mileage = sorted(df['Mileage'].unique())\n",
        "\n",
        "    return render_template('index.html', brand=brand, model=model, year=year, state=state, mileage=mileage)\n",
        "\n"
      ]
    },
    {
      "cell_type": "code",
      "execution_count": null,
      "metadata": {},
      "outputs": [
        {
          "ename": "NameError",
          "evalue": "name 'Flask' is not defined",
          "output_type": "error",
          "traceback": [
            "\u001b[0;31m---------------------------------------------------------------------------\u001b[0m",
            "\u001b[0;31mNameError\u001b[0m                                 Traceback (most recent call last)",
            "Cell \u001b[0;32mIn[40], line 2\u001b[0m\n\u001b[1;32m      1\u001b[0m \u001b[38;5;66;03m# Create the Flask app\u001b[39;00m\n\u001b[0;32m----> 2\u001b[0m app \u001b[38;5;241m=\u001b[39m \u001b[43mFlask\u001b[49m(\u001b[38;5;18m__name__\u001b[39m)\n\u001b[1;32m      4\u001b[0m car \u001b[38;5;241m=\u001b[39m pd\u001b[38;5;241m.\u001b[39mread_csv(\u001b[38;5;124m'\u001b[39m\u001b[38;5;124mhttps://github.com/sergiomora03/AdvancedTopicsAnalytics/raw/main/datasets/dataTrain_carListings.zip\u001b[39m\u001b[38;5;124m'\u001b[39m)\n\u001b[1;32m      6\u001b[0m \u001b[38;5;129m@app\u001b[39m\u001b[38;5;241m.\u001b[39mroute(\u001b[38;5;124m'\u001b[39m\u001b[38;5;124m/\u001b[39m\u001b[38;5;124m'\u001b[39m)\n\u001b[1;32m      7\u001b[0m \u001b[38;5;28;01mdef\u001b[39;00m \u001b[38;5;21mindex\u001b[39m():\n",
            "\u001b[0;31mNameError\u001b[0m: name 'Flask' is not defined"
          ]
        }
      ],
      "source": [
        "# Create the Flask app\n",
        "app = Flask(__name__)\n",
        "\n",
        "car = pd.read_csv('https://github.com/sergiomora03/AdvancedTopicsAnalytics/raw/main/datasets/dataTrain_carListings.zip')\n",
        "\n",
        "@app.route('/')\n",
        "def index():\n",
        "    make = sorted(car['Make'].unique())\n",
        "    model = sorted(car['Model'].unique())\n",
        "    year = sorted(car['Year'].unique(), reverse=True)\n",
        "    state = sorted(car['State'].unique())\n",
        "    mileage = sorted(car['Mileage'].unique())\n",
        "\n",
        "    return render_template('index.html', make=make, model=model, year=year, state=state, mileage=mileage)\n",
        "\n",
        "if __name__ == '__main__':\n",
        "    app.run(debug=True, use_reloader=False, host='0.0.0.0', port=7000)"
      ]
    },
    {
      "cell_type": "code",
      "execution_count": null,
      "metadata": {},
      "outputs": [],
      "source": [
        "#Correr App\n",
        "app.run(debug=True, use_reloader=False, host='0.0.0.0', port=8000)"
      ]
    },
    {
      "cell_type": "code",
      "execution_count": null,
      "metadata": {},
      "outputs": [],
      "source": [
        "import ipywidgets as widgets\n",
        "from IPython.display import display\n",
        "import pandas as pd\n",
        "\n",
        "# Widgets de ipywidgets para seleccionar los parámetros\n",
        "year_slider = widgets.IntSlider(value=2000, min=1990, max=2024, step=1, description='Year:')\n",
        "mileage_slider = widgets.IntSlider(value=50000, min=0, max=300000, step=1000, description='Mileage:')\n",
        "state_dropdown = widgets.Dropdown(options=df['State'].unique(), description='State:')\n",
        "make_dropdown = widgets.Dropdown(options=df['Make'].unique(), description='Make:')\n",
        "model_dropdown = widgets.Dropdown(options=df['Model'].unique(), description='Model:')\n",
        "\n",
        "# Mostrar los widgets\n",
        "display(year_slider, mileage_slider, state_dropdown, make_dropdown, model_dropdown)\n",
        "\n",
        "# Función para mostrar los valores seleccionados\n",
        "def display_values(change):\n",
        "    year = year_slider.value\n",
        "    mileage = mileage_slider.value\n",
        "    state = state_dropdown.value\n",
        "    make = make_dropdown.value\n",
        "    model = model_dropdown.value\n",
        "    print(f'Year: {year}, Mileage: {mileage}, State: {state}, Make: {make}, Model: {model}')\n",
        "\n",
        "# Vincular la función a los cambios en los widgets\n",
        "year_slider.observe(display_values, names='value')\n",
        "mileage_slider.observe(display_values, names='value')\n",
        "state_dropdown.observe(display_values, names='value')\n",
        "make_dropdown.observe(display_values, names='value')\n",
        "model_dropdown.observe(display_values, names='value')"
      ]
    },
    {
      "cell_type": "code",
      "execution_count": null,
      "metadata": {},
      "outputs": [],
      "source": [
        "from flask import Flask, render_template_string\n",
        "import pandas as pd\n",
        "import ipywidgets as widgets\n",
        "from ipywidgets_bokeh import IPyWidget\n",
        "\n",
        "app = Flask(__name__)\n",
        "\n",
        "\n",
        "# Widgets de ipywidgets para seleccionar los parámetros\n",
        "year_slider = widgets.IntSlider(value=2000, min=1990, max=2024, step=1, description='Year:')\n",
        "mileage_slider = widgets.IntSlider(value=50000, min=0, max=300000, step=1000, description='Mileage:')\n",
        "state_dropdown = widgets.Dropdown(options=df['State'].unique(), description='State:')\n",
        "make_dropdown = widgets.Dropdown(options=df['Make'].unique(), description='Make:')\n",
        "model_dropdown = widgets.Dropdown(options=df['Model'].unique(), description='Model:')\n",
        "\n",
        "# Función para mostrar los valores seleccionados\n",
        "def display_values(change):\n",
        "    year = year_slider.value\n",
        "    mileage = mileage_slider.value\n",
        "    state = state_dropdown.value\n",
        "    make = make_dropdown.value\n",
        "    model = model_dropdown.value\n",
        "    print(f'Year: {year}, Mileage: {mileage}, State: {state}, Make: {make}, Model: {model}')\n",
        "\n",
        "# Vincular la función a los cambios en los widgets\n",
        "year_slider.observe(display_values, names='value')\n",
        "mileage_slider.observe(display_values, names='value')\n",
        "state_dropdown.observe(display_values, names='value')\n",
        "make_dropdown.observe(display_values, names='value')\n",
        "model_dropdown.observe(display_values, names='value')\n",
        "\n",
        "@app.route('/')\n",
        "def index():\n",
        "    # Renderizar los widgets en la plantilla\n",
        "    year_widget = IPyWidget(year_slider)\n",
        "    mileage_widget = IPyWidget(mileage_slider)\n",
        "    state_widget = IPyWidget(state_dropdown)\n",
        "    make_widget = IPyWidget(make_dropdown)\n",
        "    model_widget = IPyWidget(model_dropdown)\n",
        "    \n",
        "    return render_template_string('''\n",
        "        <!DOCTYPE html>\n",
        "        <html>\n",
        "        <head>\n",
        "            <title>Car Prediction</title>\n",
        "            <link rel=\"stylesheet\" href=\"https://cdn.bokeh.org/bokeh/release/bokeh-2.3.3.min.css\" type=\"text/css\" />\n",
        "            <script type=\"text/javascript\" src=\"https://cdn.bokeh.org/bokeh/release/bokeh-2.3.3.min.js\"></script>\n",
        "            <script type=\"text/javascript\" src=\"https://cdn.bokeh.org/bokeh/release/bokeh-widgets-2.3.3.min.js\"></script>\n",
        "            <script type=\"text/javascript\" src=\"https://cdn.bokeh.org/bokeh/release/bokeh-tables-2.3.3.min.js\"></script>\n",
        "            <script type=\"text/javascript\" src=\"https://cdn.bokeh.org/bokeh/release/bokeh-gl-2.3.3.min.js\"></script>\n",
        "        </head>\n",
        "        <body>\n",
        "            <h1>Car Prediction</h1>\n",
        "            <div>\n",
        "                <h3>Select a car Year</h3>\n",
        "                {{ year_widget | safe }}\n",
        "            </div>\n",
        "            <div>\n",
        "                <h3>Select a car Mileage</h3>\n",
        "                {{ mileage_widget | safe }}\n",
        "            </div>\n",
        "            <div>\n",
        "                <h3>Select a car State</h3>\n",
        "                {{ state_widget | safe }}\n",
        "            </div>\n",
        "            <div>\n",
        "                <h3>Select a car Make</h3>\n",
        "                {{ make_widget | safe }}\n",
        "            </div>\n",
        "            <div>\n",
        "                <h3>Select a car Model</h3>\n",
        "                {{ model_widget | safe }}\n",
        "            </div>\n",
        "        </body>\n",
        "        </html>\n",
        "    ''', year_widget=year_widget, mileage_widget=mileage_widget, state_widget=state_widget, make_widget=make_widget, model_widget=model_widget)\n",
        "\n",
        "if __name__ == '__main__':\n",
        "    app.run(debug=True)"
      ]
    },
    {
      "cell_type": "markdown",
      "metadata": {},
      "source": [
        "### APi2"
      ]
    },
    {
      "cell_type": "code",
      "execution_count": 64,
      "metadata": {},
      "outputs": [
        {
          "name": "stdout",
          "output_type": "stream",
          "text": [
            "\u001b[0m\n",
            "\u001b[34m\u001b[1m  You can now view your Streamlit app in your browser.\u001b[0m\n",
            "\u001b[0m\n",
            "\u001b[34m  Local URL: \u001b[0m\u001b[1mhttp://localhost:8503\u001b[0m\n",
            "\u001b[34m  Network URL: \u001b[0m\u001b[1mhttp://192.168.0.7:8503\u001b[0m\n",
            "\u001b[0m\n",
            "^C\n",
            "\u001b[34m  Stopping...\u001b[0m\n"
          ]
        }
      ],
      "source": [
        "!streamlit run app2.py"
      ]
    },
    {
      "cell_type": "markdown",
      "metadata": {},
      "source": []
    },
    {
      "cell_type": "markdown",
      "metadata": {},
      "source": [
        "## Pruebas de API"
      ]
    },
    {
      "cell_type": "markdown",
      "metadata": {},
      "source": [
        "- Después de ver que la APP se había ejecuado de forma local se probó con Flask, pero no generaron el resultado esperado."
      ]
    },
    {
      "cell_type": "code",
      "execution_count": 57,
      "metadata": {},
      "outputs": [],
      "source": [
        "loaded_model = joblib.load('model_rf.pkl')"
      ]
    },
    {
      "cell_type": "code",
      "execution_count": 58,
      "metadata": {},
      "outputs": [
        {
          "name": "stdout",
          "output_type": "stream",
          "text": [
            " * Serving Flask app '__main__'\n",
            " * Debug mode: off\n"
          ]
        },
        {
          "name": "stderr",
          "output_type": "stream",
          "text": [
            "\u001b[31m\u001b[1mWARNING: This is a development server. Do not use it in a production deployment. Use a production WSGI server instead.\u001b[0m\n",
            " * Running on http://127.0.0.1:7000\n",
            "\u001b[33mPress CTRL+C to quit\u001b[0m\n",
            "127.0.0.1 - - [06/Sep/2024 23:17:10] \"\u001b[33mGET / HTTP/1.1\u001b[0m\" 404 -\n",
            "127.0.0.1 - - [06/Sep/2024 23:18:10] \"\u001b[33mGET / HTTP/1.1\u001b[0m\" 404 -\n",
            "127.0.0.1 - - [06/Sep/2024 23:18:39] \"\u001b[33mGET / HTTP/1.1\u001b[0m\" 404 -\n"
          ]
        }
      ],
      "source": [
        "from flask import Flask, request, jsonify\n",
        "import joblib\n",
        "import pandas as pd\n",
        "\n",
        "app = Flask(__name__)\n",
        "\n",
        "# Cargar el modelo\n",
        "model = joblib.load('model_rf.pkl')\n",
        "\n",
        "@app.route('/predict', methods=['POST'])\n",
        "def predict():\n",
        "    try:\n",
        "        # Obtener los datos del cuerpo de la solicitud\n",
        "        data = request.json\n",
        "\n",
        "        # Convertir los datos a un DataFrame\n",
        "        df2 = pd.DataFrame(data)\n",
        "\n",
        "        # Hacer predicciones\n",
        "        predictions = model.predict(df2)\n",
        "\n",
        "        # Convertir las predicciones a una lista\n",
        "        predictions_list = predictions.tolist()\n",
        "\n",
        "        # Devolver las predicciones en formato JSON\n",
        "        return jsonify(predictions=predictions_list)\n",
        "\n",
        "    except Exception as e:\n",
        "        return jsonify(error=str(e)), 400\n",
        "\n",
        "if __name__ == '__main__':\n",
        "    app.run(port=5000)"
      ]
    },
    {
      "cell_type": "code",
      "execution_count": null,
      "metadata": {},
      "outputs": [],
      "source": [
        "from flask import Flask, request, jsonify\n",
        "import joblib\n",
        "import pandas as pd\n",
        "\n",
        "app = Flask(__name__)\n",
        "\n",
        "# Cargar el modelo\n",
        "model = joblib.load('xgboost_model.pkl')\n",
        "@app.route('/predict', methods=['POST'])\n",
        "def predict():\n",
        "    try:\n",
        "        data = request.json\n",
        "        df = pd.DataFrame(data)\n",
        "\n",
        "        expected_columns = [\n",
        "            'Year', 'Mileage', 'State_ CA', 'State_ CO', 'State_ FL',\n",
        "            'State_ GA', 'State_ IL', 'State_ IN', 'State_ KY', 'State_ MA',\n",
        "            'State_ MD', 'State_ MO', 'State_ NC', 'State_ NJ', 'State_ NY',\n",
        "            'State_ OH', 'State_ PA', 'State_ TN', 'State_ TX', 'State_ VA',\n",
        "            'State_ WA', 'State_Otros', 'Make_Buick', 'Make_Cadillac',\n",
        "            'Make_Chevrolet', 'Make_Chrysler', 'Make_Dodge', 'Make_Ford',\n",
        "            'Make_GMC', 'Make_Honda', 'Make_Hyundai', 'Make_Jeep', 'Make_Kia',\n",
        "            'Make_Lexus', 'Make_MINI', 'Make_Mercedes-Benz', 'Make_Nissan',\n",
        "            'Make_Otros', 'Make_Ram', 'Make_Subaru', 'Make_Toyota',\n",
        "            'Make_Volkswagen', 'Model_Accord', 'Model_CamaroCoupe', 'Model_CamrySE',\n",
        "            'Model_Civic', 'Model_CorollaLE', 'Model_EquinoxFWD', 'Model_F-1504WD',\n",
        "            'Model_F-150XLT', 'Model_FusionSE', 'Model_Grand', 'Model_Jetta',\n",
        "            'Model_MalibuLT', 'Model_Otros', 'Model_Ram', 'Model_Santa',\n",
        "            'Model_Sierra', 'Model_Silverado', 'Model_Super', 'Model_Town',\n",
        "            'Model_Wrangler'\n",
        "        ]\n",
        "\n",
        "        for col in expected_columns:\n",
        "            if col not in df.columns:\n",
        "                df[col] = 0\n",
        "\n",
        "        df = df[expected_columns]\n",
        "\n",
        "        # Hacer predicciones\n",
        "        predictions = model.predict(df)\n",
        "        # Convertir las predicciones a una lista\n",
        "        predictions_list = predictions.tolist()\n",
        "        # Devolver las predicciones en formato JSON\n",
        "        return jsonify(predictions=predictions_list)\n",
        "\n",
        "    except Exception as e:\n",
        "        return jsonify(error=str(e)), 400\n",
        "\n",
        "if __name__ == '__main__':\n",
        "    app.run(port=5000)"
      ]
    },
    {
      "cell_type": "code",
      "execution_count": null,
      "metadata": {},
      "outputs": [
        {
          "name": "stdout",
          "output_type": "stream",
          "text": [
            " * Serving Flask app '__main__'\n",
            " * Debug mode: on\n"
          ]
        },
        {
          "name": "stderr",
          "output_type": "stream",
          "text": [
            "\u001b[31m\u001b[1mWARNING: This is a development server. Do not use it in a production deployment. Use a production WSGI server instead.\u001b[0m\n",
            " * Running on all addresses (0.0.0.0)\n",
            " * Running on http://127.0.0.1:8000\n",
            " * Running on http://192.168.0.7:8000\n",
            "\u001b[33mPress CTRL+C to quit\u001b[0m\n",
            "127.0.0.1 - - [06/Sep/2024 23:31:27] \"GET / HTTP/1.1\" 200 -\n",
            "127.0.0.1 - - [06/Sep/2024 23:31:28] \"\u001b[36mGET /static/css/style.css HTTP/1.1\u001b[0m\" 304 -\n"
          ]
        }
      ],
      "source": [
        "from flask import Flask, request, render_template, jsonify\n",
        "import pandas as pd\n",
        "from sklearn.preprocessing import OrdinalEncoder\n",
        "import pickle\n",
        "\n",
        "app = Flask(__name__)\n",
        "\n",
        "# Carga el encoder preentrenado\n",
        "with open('ordinal_encoder.pkl', 'rb') as f:\n",
        "    ordinal_encoder = pickle.load(f)\n",
        "\n",
        "# Carga los datos originales para la predicción (si es necesario)\n",
        "data = pd.read_csv('https://github.com/sergiomora03/AdvancedTopicsAnalytics/raw/main/datasets/dataTrain_carListings.zip')\n",
        "\n",
        "@app.route('/')\n",
        "def home():\n",
        "    # Renderiza un formulario HTML simple\n",
        "    return render_template('index.html')\n",
        "\n",
        "@app.route('/predict', methods=['POST'])\n",
        "def predict():\n",
        "    year = request.form.get('year')\n",
        "    mileage = request.form.get('mileage')\n",
        "    make = request.form.get('make')\n",
        "    state = request.form.get('state')\n",
        "    model = request.form.get('model')\n",
        "    \n",
        "    # Prepara los datos para la predicción\n",
        "    Y_pred = pd.DataFrame([[year, mileage, make, state, model]], columns=['Year', 'Mileage', 'Make', 'State', 'Model'])\n",
        "    \n",
        "    # Asegura que las columnas estén en el orden correcto\n",
        "    Y_pred = Y_pred[['State', 'Make', 'Model']]\n",
        "\n",
        "    # Aplica la codificación\n",
        "    Y_pred[['State', 'Make', 'Model']] = ordinal_encoder.transform(Y_pred[['State', 'Make', 'Model']])\n",
        "\n",
        "    # Aquí podrías aplicar un modelo de predicción (ej: RandomForest, etc.)\n",
        "    # Ejemplo de predicción ficticia\n",
        "    prediction = 20000  # Por ejemplo, un valor predicho\n",
        "\n",
        "    # Devuelve la predicción como respuesta JSON\n",
        "    return jsonify({'prediction': prediction})\n",
        "\n",
        "if __name__ == '__main__':\n",
        "    app.run(debug=True)\n"
      ]
    },
    {
      "cell_type": "code",
      "execution_count": 65,
      "metadata": {},
      "outputs": [
        {
          "name": "stdout",
          "output_type": "stream",
          "text": [
            " * Serving Flask app '__main__'\n",
            " * Debug mode: on\n"
          ]
        },
        {
          "name": "stderr",
          "output_type": "stream",
          "text": [
            "\u001b[31m\u001b[1mWARNING: This is a development server. Do not use it in a production deployment. Use a production WSGI server instead.\u001b[0m\n",
            " * Running on http://127.0.0.1:5000\n",
            "\u001b[33mPress CTRL+C to quit\u001b[0m\n",
            " * Restarting with watchdog (fsevents)\n",
            "Traceback (most recent call last):\n",
            "  File \"<frozen runpy>\", line 198, in _run_module_as_main\n",
            "  File \"<frozen runpy>\", line 88, in _run_code\n",
            "  File \"/Users/juanpablo.cuellar/Library/Python/3.11/lib/python/site-packages/ipykernel_launcher.py\", line 18, in <module>\n",
            "    app.launch_new_instance()\n",
            "  File \"/Users/juanpablo.cuellar/Library/Python/3.11/lib/python/site-packages/traitlets/config/application.py\", line 1074, in launch_instance\n",
            "    app.initialize(argv)\n",
            "  File \"/Users/juanpablo.cuellar/Library/Python/3.11/lib/python/site-packages/traitlets/config/application.py\", line 118, in inner\n",
            "    return method(app, *args, **kwargs)\n",
            "           ^^^^^^^^^^^^^^^^^^^^^^^^^^^^\n",
            "  File \"/Users/juanpablo.cuellar/Library/Python/3.11/lib/python/site-packages/ipykernel/kernelapp.py\", line 692, in initialize\n",
            "    self.init_sockets()\n",
            "  File \"/Users/juanpablo.cuellar/Library/Python/3.11/lib/python/site-packages/ipykernel/kernelapp.py\", line 331, in init_sockets\n",
            "    self.shell_port = self._bind_socket(self.shell_socket, self.shell_port)\n",
            "                      ^^^^^^^^^^^^^^^^^^^^^^^^^^^^^^^^^^^^^^^^^^^^^^^^^^^^^\n",
            "  File \"/Users/juanpablo.cuellar/Library/Python/3.11/lib/python/site-packages/ipykernel/kernelapp.py\", line 253, in _bind_socket\n",
            "    return self._try_bind_socket(s, port)\n",
            "           ^^^^^^^^^^^^^^^^^^^^^^^^^^^^^^\n",
            "  File \"/Users/juanpablo.cuellar/Library/Python/3.11/lib/python/site-packages/ipykernel/kernelapp.py\", line 229, in _try_bind_socket\n",
            "    s.bind(\"tcp://%s:%i\" % (self.ip, port))\n",
            "  File \"/Users/juanpablo.cuellar/Library/Python/3.11/lib/python/site-packages/zmq/sugar/socket.py\", line 311, in bind\n",
            "    super().bind(addr)\n",
            "  File \"_zmq.py\", line 898, in zmq.backend.cython._zmq.Socket.bind\n",
            "  File \"_zmq.py\", line 160, in zmq.backend.cython._zmq._check_rc\n",
            "zmq.error.ZMQError: Address already in use (addr='tcp://127.0.0.1:9066')\n"
          ]
        },
        {
          "ename": "SystemExit",
          "evalue": "1",
          "output_type": "error",
          "traceback": [
            "An exception has occurred, use %tb to see the full traceback.\n",
            "\u001b[0;31mSystemExit\u001b[0m\u001b[0;31m:\u001b[0m 1\n"
          ]
        },
        {
          "name": "stderr",
          "output_type": "stream",
          "text": [
            "/Users/juanpablo.cuellar/Library/Python/3.11/lib/python/site-packages/IPython/core/interactiveshell.py:3585: UserWarning: To exit: use 'exit', 'quit', or Ctrl-D.\n",
            "  warn(\"To exit: use 'exit', 'quit', or Ctrl-D.\", stacklevel=1)\n"
          ]
        }
      ],
      "source": [
        "from flask import Flask, request, render_template, jsonify\n",
        "import pandas as pd\n",
        "from sklearn.preprocessing import OrdinalEncoder\n",
        "import pickle\n",
        "\n",
        "app = Flask(__name__)\n",
        "\n",
        "# Carga el encoder preentrenado\n",
        "with open('ordinal_encoder.pkl', 'rb') as f:\n",
        "    ordinal_encoder = pickle.load(f)\n",
        "\n",
        "# Carga los datos originales para la predicción (si es necesario)\n",
        "data = pd.read_csv('https://github.com/sergiomora03/AdvancedTopicsAnalytics/raw/main/datasets/dataTrain_carListings.zip')\n",
        "\n",
        "@app.route('/')\n",
        "def home():\n",
        "    # Renderiza un formulario HTML simple\n",
        "    return render_template('index.html')\n",
        "\n",
        "@app.route('/predict', methods=['POST'])\n",
        "def predict():\n",
        "    year = request.form.get('year')\n",
        "    mileage = request.form.get('mileage')\n",
        "    make = request.form.get('make')\n",
        "    state = request.form.get('state')\n",
        "    model = request.form.get('model')\n",
        "    \n",
        "    # Prepara los datos para la predicción\n",
        "    Y_pred = pd.DataFrame([[year, mileage, make, state, model]], columns=['Year', 'Mileage', 'Make', 'State', 'Model'])\n",
        "    \n",
        "    # Asegura que las columnas estén en el orden correcto\n",
        "    Y_pred = Y_pred[['State', 'Make', 'Model']]\n",
        "\n",
        "    # Aplica la codificación\n",
        "    Y_pred[['State', 'Make', 'Model']] = ordinal_encoder.transform(Y_pred[['State', 'Make', 'Model']])\n",
        "\n",
        "    # Aquí podrías aplicar un modelo de predicción (ej: RandomForest, etc.)\n",
        "    # Ejemplo de predicción ficticia\n",
        "    prediction =  model.predict(Y_encoded)\n",
        "\n",
        "\n",
        "    # Devuelve la predicción como respuesta JSON\n",
        "    return jsonify({'prediction': prediction})\n",
        "\n",
        "if __name__ == '__main__':\n",
        "    app.run(debug=True)\n"
      ]
    }
  ],
  "metadata": {
    "colab": {
      "include_colab_link": true,
      "provenance": []
    },
    "kernelspec": {
      "display_name": "Python 3",
      "language": "python",
      "name": "python3"
    },
    "language_info": {
      "codemirror_mode": {
        "name": "ipython",
        "version": 3
      },
      "file_extension": ".py",
      "mimetype": "text/x-python",
      "name": "python",
      "nbconvert_exporter": "python",
      "pygments_lexer": "ipython3",
      "version": "3.11.1"
    }
  },
  "nbformat": 4,
  "nbformat_minor": 0
}
